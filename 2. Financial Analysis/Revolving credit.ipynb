{
 "cells": [
  {
   "cell_type": "markdown",
   "metadata": {},
   "source": [
    "# Financial Project \n",
    "\n",
    "## The Data\n",
    "\n",
    "Revolving credit \n",
    "\n",
    "### Business Objective:\n",
    "\n",
    "Revolving credit means you're borrowing against a line of credit. Let's say a lender extends a\n",
    "certain amount of credit to you, against which you can borrow repeatedly. The amount of\n",
    "credit you're allowed to use each month is your credit line, or credit limit. You're free to use as\n",
    "much or as little of that credit line as you wish on any purchase you could make with cash. Its\n",
    "just like a credit card and only difference is they have lower interest rate and they are secured\n",
    "by business assets.\n",
    "At the end of each statement period, you receive a bill for the balance. If you don't pay it\n",
    "off in full, you carry the balance, or revolve it, over to the next month and pay interest on\n",
    "any remaining balance. As you pay down the balance, more of your credit line becomes\n",
    "available and usually its useful for small loans\n",
    "As a bank or investor who are into this revolving balance here they can charge higher\n",
    "interest rates and convenience fees as there is lot of risk associated in customer paying\n",
    "the amount. Our company wants to predict the revolving balance maintained by the\n",
    "customer so that they can derive marketing strategies individually.\n",
    "\n",
    "### Acceptance criteria:\n",
    "\n",
    "Should get the least possible RMSE and the model should be deployed\n",
    "using Flask/ RShiny/Heroku.\n",
    "\n",
    "### Data Overview"
   ]
  },
  {
   "cell_type": "markdown",
   "metadata": {},
   "source": [
    "----\n",
    "-----\n",
    "Here is the information on this particular Revolving credit data set:\n",
    "\n",
    "Data Set Details: This dataset consists of 2300 observations\n",
    "\n",
    "###### member_id ---- unique ID assigned to each member\n",
    "###### loan_amnt ---- loan amount (doller) applied by the member\n",
    "###### terms: ---- term of loan (in months)\n",
    "###### batch_ID ---- batch numbers allotted to members\n",
    "###### Rate_of_intrst: ---- interest rate (%) on loan\n",
    "###### Grade: ---- grade assigned by the bank\n",
    "###### sub_grade: ---- grade assigned by the bank\n",
    "###### emp_designation ---- job / Employer title of member\n",
    "###### Experience: ---- employment length, where 0 means less than one year and 10 means ten or more years\n",
    "###### home_ownership ---- status of home ownership\n",
    "###### annual_inc: ---- annual income (doller) reported by the member\n",
    "###### verification_status ---- status of income verified by the bank\n",
    "###### purpose ---- purpose of loan\n",
    "###### State: ---- living state of member\n",
    "###### debt-to-income ratio : ---- ratio of member's total monthly debt\n",
    "###### Delinquency of past 2 years: ---- ( failure to pay an outstanding debt by due date)\n",
    "###### inq_6mths: ---- Inquiries made in past 6 months\n",
    "###### total_months_delinq : ---- number of months since last delinq\n",
    "###### Nmbr_months_last_record: ---- number of months since last public record\n",
    "###### Numb_credit_lines: ---- number of open credit line in member's credit line\n",
    "###### pub_rec ---- number of derogatory public records\n",
    "###### Tota_credit_revolving_balance: ---- total credit revolving balance\n",
    "###### total_credits: ---- total number of credit lines available in members credit line\n",
    "###### list_status ---- unique listing status of the loan - W(Waiting),F(Forwarded)\n",
    "###### int_rec: ---- Total interest received till date\n",
    "###### late_fee_rev: ---- Late fee received till date\n",
    "###### recov_chrg: ---- post charge off gross recovery\n",
    "###### collection_recovery_fee ---- post charge off collection fee\n",
    "###### exc_med_colle_12mon: ---- number of collections in last 12 months excluding medical collections\n",
    "###### since_last_major_derog: ---- months since most recent 90 day or worse rating\n",
    "###### application_type ---- indicates when the member is an individual or joint\n",
    "###### verification_status_joint ---- indicates if the joint members income was verified by the bank\n",
    "###### last_pay_week: ---- indicates how long (in weeks) a member has paid EMI after batch enrolled\n",
    "###### nmbr_acc_delinq: ---- number of accounts on which the member isdelinquent\n",
    "###### colle_amt: ---- total collection amount ever owed\n",
    "###### curr_bal: ---- total current balance of all accounts"
   ]
  },
  {
   "cell_type": "markdown",
   "metadata": {},
   "source": [
    "# Starter Code"
   ]
  },
  {
   "cell_type": "code",
   "execution_count": 1,
   "metadata": {},
   "outputs": [],
   "source": [
    "import pandas as pd\n",
    "import numpy as np\n",
    "import seaborn as sns\n",
    "import matplotlib.pyplot as plt\n",
    "%matplotlib inline"
   ]
  },
  {
   "cell_type": "markdown",
   "metadata": {},
   "source": [
    "## Get the Data"
   ]
  },
  {
   "cell_type": "markdown",
   "metadata": {},
   "source": [
    "** Using pandas to read Report.csv as a dataframe called dataset.**"
   ]
  },
  {
   "cell_type": "code",
   "execution_count": 2,
   "metadata": {},
   "outputs": [
    {
     "name": "stderr",
     "output_type": "stream",
     "text": [
      "/Users/Ankan/opt/anaconda3/lib/python3.7/site-packages/IPython/core/interactiveshell.py:3058: DtypeWarning: Columns (31) have mixed types. Specify dtype option on import or set low_memory=False.\n",
      "  interactivity=interactivity, compiler=compiler, result=result)\n"
     ]
    }
   ],
   "source": [
    "dataset = pd.read_csv(\"/Users/Ankan/Desktop/DataScience/GitHub/New-Tariff-Rule-/2. Financial Analysis/Report.csv\",encoding='latin1')"
   ]
  },
  {
   "cell_type": "markdown",
   "metadata": {},
   "source": [
    "** Check out the info(), head(),columns,shape,type,len and describe() methods on dataset.**"
   ]
  },
  {
   "cell_type": "code",
   "execution_count": 3,
   "metadata": {},
   "outputs": [],
   "source": [
    "# dataset.head()"
   ]
  },
  {
   "cell_type": "code",
   "execution_count": 4,
   "metadata": {},
   "outputs": [],
   "source": [
    "# dataset.describe()"
   ]
  },
  {
   "cell_type": "code",
   "execution_count": 5,
   "metadata": {},
   "outputs": [],
   "source": [
    "# dataset.info()"
   ]
  },
  {
   "cell_type": "code",
   "execution_count": 127,
   "metadata": {},
   "outputs": [
    {
     "data": {
      "text/plain": [
       "member_id                      887379\n",
       "loan_amnt                        1372\n",
       "terms                               2\n",
       "batch_ID                          207\n",
       "Rate_of_intrst                    542\n",
       "grade                               7\n",
       "sub_grade                          35\n",
       "Emp_designation                289207\n",
       "Experience                         11\n",
       "home_ownership                      6\n",
       "annual_inc                      49384\n",
       "verification_status                 3\n",
       "purpose                            14\n",
       "State                              51\n",
       "debt_income_ratio                4086\n",
       "delinq_2yrs                        29\n",
       "inq_last_6mths                     28\n",
       "mths_since_last_delinq            155\n",
       "mths_since_last_record            123\n",
       "numb_credit                        77\n",
       "pub_rec                            32\n",
       "total revol_bal                 73740\n",
       "total_credits                     135\n",
       "initial_list_status                 2\n",
       "total_rec_int                  324635\n",
       "total_rec_late_fee               6106\n",
       "recoveries                      23055\n",
       "collection_recovery_fee         20549\n",
       "collections_12_mths_ex_med         12\n",
       "mths_since_last_major_derog       168\n",
       "application_type                    2\n",
       "verification_status_joint           3\n",
       "last_week_pay                      98\n",
       "acc_now_delinq                      8\n",
       "tot_colle_amt                   10325\n",
       "tot_curr_bal                   327342\n",
       "dtype: int64"
      ]
     },
     "execution_count": 127,
     "metadata": {},
     "output_type": "execute_result"
    }
   ],
   "source": [
    "dataset.nunique()"
   ]
  },
  {
   "cell_type": "code",
   "execution_count": 7,
   "metadata": {},
   "outputs": [],
   "source": [
    "# type(dataset)"
   ]
  },
  {
   "cell_type": "code",
   "execution_count": 8,
   "metadata": {},
   "outputs": [],
   "source": [
    "# len(dataset)"
   ]
  },
  {
   "cell_type": "code",
   "execution_count": 9,
   "metadata": {},
   "outputs": [],
   "source": [
    "# dataset.shape"
   ]
  },
  {
   "cell_type": "code",
   "execution_count": 10,
   "metadata": {},
   "outputs": [],
   "source": [
    "# dataset.columns"
   ]
  },
  {
   "cell_type": "markdown",
   "metadata": {},
   "source": [
    "# Project Starts\n",
    "\n",
    "-----\n",
    "------\n",
    "\n",
    "# Section 1: Exploratory Data Analysis\n",
    "\n",
    "**OVERALL GOAL: Get an understanding for which variables are important, view summary statistics, and visualize the data**\n",
    "\n",
    "\n",
    "----"
   ]
  },
  {
   "cell_type": "code",
   "execution_count": 11,
   "metadata": {},
   "outputs": [],
   "source": [
    "df = dataset.copy()"
   ]
  },
  {
   "cell_type": "code",
   "execution_count": 12,
   "metadata": {},
   "outputs": [],
   "source": [
    "# sns.countplot(x='verification_status',data=df)"
   ]
  },
  {
   "cell_type": "markdown",
   "metadata": {},
   "source": [
    "###### Source verified and verified must be having a similar understanding so we need to rename the source verified data"
   ]
  },
  {
   "cell_type": "code",
   "execution_count": 13,
   "metadata": {},
   "outputs": [],
   "source": [
    "# sns.countplot(x='grade',data=df)"
   ]
  },
  {
   "cell_type": "code",
   "execution_count": 14,
   "metadata": {},
   "outputs": [],
   "source": [
    "# dataset['loan_amnt '].describe()"
   ]
  },
  {
   "cell_type": "code",
   "execution_count": 15,
   "metadata": {},
   "outputs": [],
   "source": [
    "# plt.figure(figsize=(12,4))\n",
    "# sns.distplot(dataset.iloc[:,1],kde=False,bins=40)\n",
    "# plt.xlim(0,45000)"
   ]
  },
  {
   "cell_type": "markdown",
   "metadata": {},
   "source": [
    "###### Trying to find out the correlation between the continuous feature variables using .corr() method."
   ]
  },
  {
   "cell_type": "code",
   "execution_count": 16,
   "metadata": {},
   "outputs": [
    {
     "data": {
      "text/html": [
       "<div>\n",
       "<style scoped>\n",
       "    .dataframe tbody tr th:only-of-type {\n",
       "        vertical-align: middle;\n",
       "    }\n",
       "\n",
       "    .dataframe tbody tr th {\n",
       "        vertical-align: top;\n",
       "    }\n",
       "\n",
       "    .dataframe thead th {\n",
       "        text-align: right;\n",
       "    }\n",
       "</style>\n",
       "<table border=\"1\" class=\"dataframe\">\n",
       "  <thead>\n",
       "    <tr style=\"text-align: right;\">\n",
       "      <th></th>\n",
       "      <th>member_id</th>\n",
       "      <th>loan_amnt</th>\n",
       "      <th>Rate_of_intrst</th>\n",
       "      <th>annual_inc</th>\n",
       "      <th>debt_income_ratio</th>\n",
       "      <th>delinq_2yrs</th>\n",
       "      <th>inq_last_6mths</th>\n",
       "      <th>mths_since_last_delinq</th>\n",
       "      <th>mths_since_last_record</th>\n",
       "      <th>numb_credit</th>\n",
       "      <th>...</th>\n",
       "      <th>total_credits</th>\n",
       "      <th>total_rec_int</th>\n",
       "      <th>total_rec_late_fee</th>\n",
       "      <th>recoveries</th>\n",
       "      <th>collection_recovery_fee</th>\n",
       "      <th>collections_12_mths_ex_med</th>\n",
       "      <th>mths_since_last_major_derog</th>\n",
       "      <th>acc_now_delinq</th>\n",
       "      <th>tot_colle_amt</th>\n",
       "      <th>tot_curr_bal</th>\n",
       "    </tr>\n",
       "  </thead>\n",
       "  <tbody>\n",
       "    <tr>\n",
       "      <td>member_id</td>\n",
       "      <td>1.000000</td>\n",
       "      <td>0.064461</td>\n",
       "      <td>-0.142205</td>\n",
       "      <td>0.034146</td>\n",
       "      <td>0.067824</td>\n",
       "      <td>0.049904</td>\n",
       "      <td>-0.127257</td>\n",
       "      <td>-0.008682</td>\n",
       "      <td>-0.158700</td>\n",
       "      <td>0.088838</td>\n",
       "      <td>...</td>\n",
       "      <td>0.031692</td>\n",
       "      <td>-0.461098</td>\n",
       "      <td>-0.076388</td>\n",
       "      <td>-0.114473</td>\n",
       "      <td>-0.072818</td>\n",
       "      <td>0.051445</td>\n",
       "      <td>0.056087</td>\n",
       "      <td>0.016961</td>\n",
       "      <td>0.004292</td>\n",
       "      <td>0.007997</td>\n",
       "    </tr>\n",
       "    <tr>\n",
       "      <td>loan_amnt</td>\n",
       "      <td>0.064461</td>\n",
       "      <td>1.000000</td>\n",
       "      <td>0.145023</td>\n",
       "      <td>0.332698</td>\n",
       "      <td>0.020675</td>\n",
       "      <td>-0.000159</td>\n",
       "      <td>-0.034168</td>\n",
       "      <td>-0.038080</td>\n",
       "      <td>-0.010734</td>\n",
       "      <td>0.198906</td>\n",
       "      <td>...</td>\n",
       "      <td>0.222639</td>\n",
       "      <td>0.533916</td>\n",
       "      <td>0.031395</td>\n",
       "      <td>0.073150</td>\n",
       "      <td>0.052205</td>\n",
       "      <td>-0.016650</td>\n",
       "      <td>-0.037278</td>\n",
       "      <td>0.003947</td>\n",
       "      <td>-0.004275</td>\n",
       "      <td>0.328782</td>\n",
       "    </tr>\n",
       "    <tr>\n",
       "      <td>Rate_of_intrst</td>\n",
       "      <td>-0.142205</td>\n",
       "      <td>0.145023</td>\n",
       "      <td>1.000000</td>\n",
       "      <td>-0.072786</td>\n",
       "      <td>0.079903</td>\n",
       "      <td>0.055178</td>\n",
       "      <td>0.227650</td>\n",
       "      <td>-0.030033</td>\n",
       "      <td>0.022485</td>\n",
       "      <td>-0.010381</td>\n",
       "      <td>...</td>\n",
       "      <td>-0.038618</td>\n",
       "      <td>0.445679</td>\n",
       "      <td>0.057150</td>\n",
       "      <td>0.106840</td>\n",
       "      <td>0.070867</td>\n",
       "      <td>0.013336</td>\n",
       "      <td>-0.011180</td>\n",
       "      <td>0.026478</td>\n",
       "      <td>0.001130</td>\n",
       "      <td>-0.091408</td>\n",
       "    </tr>\n",
       "    <tr>\n",
       "      <td>annual_inc</td>\n",
       "      <td>0.034146</td>\n",
       "      <td>0.332698</td>\n",
       "      <td>-0.072786</td>\n",
       "      <td>1.000000</td>\n",
       "      <td>-0.087410</td>\n",
       "      <td>0.047470</td>\n",
       "      <td>0.035193</td>\n",
       "      <td>-0.050350</td>\n",
       "      <td>-0.096151</td>\n",
       "      <td>0.138392</td>\n",
       "      <td>...</td>\n",
       "      <td>0.187335</td>\n",
       "      <td>0.128535</td>\n",
       "      <td>0.013500</td>\n",
       "      <td>0.007717</td>\n",
       "      <td>0.006630</td>\n",
       "      <td>-0.003936</td>\n",
       "      <td>-0.037394</td>\n",
       "      <td>0.014775</td>\n",
       "      <td>0.001096</td>\n",
       "      <td>0.418332</td>\n",
       "    </tr>\n",
       "    <tr>\n",
       "      <td>debt_income_ratio</td>\n",
       "      <td>0.067824</td>\n",
       "      <td>0.020675</td>\n",
       "      <td>0.079903</td>\n",
       "      <td>-0.087410</td>\n",
       "      <td>1.000000</td>\n",
       "      <td>-0.002831</td>\n",
       "      <td>-0.008106</td>\n",
       "      <td>0.001447</td>\n",
       "      <td>0.065933</td>\n",
       "      <td>0.144250</td>\n",
       "      <td>...</td>\n",
       "      <td>0.108056</td>\n",
       "      <td>0.008380</td>\n",
       "      <td>-0.005748</td>\n",
       "      <td>0.001162</td>\n",
       "      <td>0.002159</td>\n",
       "      <td>-0.000292</td>\n",
       "      <td>0.007736</td>\n",
       "      <td>0.003205</td>\n",
       "      <td>-0.002084</td>\n",
       "      <td>-0.007282</td>\n",
       "    </tr>\n",
       "    <tr>\n",
       "      <td>delinq_2yrs</td>\n",
       "      <td>0.049904</td>\n",
       "      <td>-0.000159</td>\n",
       "      <td>0.055178</td>\n",
       "      <td>0.047470</td>\n",
       "      <td>-0.002831</td>\n",
       "      <td>1.000000</td>\n",
       "      <td>0.021375</td>\n",
       "      <td>-0.562654</td>\n",
       "      <td>-0.088179</td>\n",
       "      <td>0.051189</td>\n",
       "      <td>...</td>\n",
       "      <td>0.122713</td>\n",
       "      <td>0.001665</td>\n",
       "      <td>0.017432</td>\n",
       "      <td>-0.000729</td>\n",
       "      <td>0.000989</td>\n",
       "      <td>0.063016</td>\n",
       "      <td>-0.424556</td>\n",
       "      <td>0.130326</td>\n",
       "      <td>0.000207</td>\n",
       "      <td>0.064762</td>\n",
       "    </tr>\n",
       "    <tr>\n",
       "      <td>inq_last_6mths</td>\n",
       "      <td>-0.127257</td>\n",
       "      <td>-0.034168</td>\n",
       "      <td>0.227650</td>\n",
       "      <td>0.035193</td>\n",
       "      <td>-0.008106</td>\n",
       "      <td>0.021375</td>\n",
       "      <td>1.000000</td>\n",
       "      <td>0.014748</td>\n",
       "      <td>-0.086349</td>\n",
       "      <td>0.111235</td>\n",
       "      <td>...</td>\n",
       "      <td>0.135584</td>\n",
       "      <td>0.085585</td>\n",
       "      <td>0.031637</td>\n",
       "      <td>0.045590</td>\n",
       "      <td>0.034007</td>\n",
       "      <td>0.006850</td>\n",
       "      <td>0.020546</td>\n",
       "      <td>-0.005329</td>\n",
       "      <td>0.003171</td>\n",
       "      <td>0.034338</td>\n",
       "    </tr>\n",
       "    <tr>\n",
       "      <td>mths_since_last_delinq</td>\n",
       "      <td>-0.008682</td>\n",
       "      <td>-0.038080</td>\n",
       "      <td>-0.030033</td>\n",
       "      <td>-0.050350</td>\n",
       "      <td>0.001447</td>\n",
       "      <td>-0.562654</td>\n",
       "      <td>0.014748</td>\n",
       "      <td>1.000000</td>\n",
       "      <td>0.019038</td>\n",
       "      <td>-0.043182</td>\n",
       "      <td>...</td>\n",
       "      <td>-0.044920</td>\n",
       "      <td>-0.028208</td>\n",
       "      <td>-0.021321</td>\n",
       "      <td>-0.004525</td>\n",
       "      <td>-0.005180</td>\n",
       "      <td>-0.035834</td>\n",
       "      <td>0.699356</td>\n",
       "      <td>-0.139118</td>\n",
       "      <td>0.006466</td>\n",
       "      <td>-0.093911</td>\n",
       "    </tr>\n",
       "    <tr>\n",
       "      <td>mths_since_last_record</td>\n",
       "      <td>-0.158700</td>\n",
       "      <td>-0.010734</td>\n",
       "      <td>0.022485</td>\n",
       "      <td>-0.096151</td>\n",
       "      <td>0.065933</td>\n",
       "      <td>-0.088179</td>\n",
       "      <td>-0.086349</td>\n",
       "      <td>0.019038</td>\n",
       "      <td>1.000000</td>\n",
       "      <td>0.012445</td>\n",
       "      <td>...</td>\n",
       "      <td>-0.177856</td>\n",
       "      <td>0.083147</td>\n",
       "      <td>-0.025561</td>\n",
       "      <td>0.013120</td>\n",
       "      <td>0.002846</td>\n",
       "      <td>-0.020923</td>\n",
       "      <td>0.034511</td>\n",
       "      <td>-0.015947</td>\n",
       "      <td>-0.059586</td>\n",
       "      <td>-0.026634</td>\n",
       "    </tr>\n",
       "    <tr>\n",
       "      <td>numb_credit</td>\n",
       "      <td>0.088838</td>\n",
       "      <td>0.198906</td>\n",
       "      <td>-0.010381</td>\n",
       "      <td>0.138392</td>\n",
       "      <td>0.144250</td>\n",
       "      <td>0.051189</td>\n",
       "      <td>0.111235</td>\n",
       "      <td>-0.043182</td>\n",
       "      <td>0.012445</td>\n",
       "      <td>1.000000</td>\n",
       "      <td>...</td>\n",
       "      <td>0.695075</td>\n",
       "      <td>0.061223</td>\n",
       "      <td>-0.009606</td>\n",
       "      <td>0.001560</td>\n",
       "      <td>0.003217</td>\n",
       "      <td>0.009610</td>\n",
       "      <td>0.009059</td>\n",
       "      <td>0.017752</td>\n",
       "      <td>0.000124</td>\n",
       "      <td>0.244134</td>\n",
       "    </tr>\n",
       "    <tr>\n",
       "      <td>pub_rec</td>\n",
       "      <td>0.080788</td>\n",
       "      <td>-0.081177</td>\n",
       "      <td>0.052156</td>\n",
       "      <td>-0.008341</td>\n",
       "      <td>-0.022926</td>\n",
       "      <td>-0.011004</td>\n",
       "      <td>0.056870</td>\n",
       "      <td>0.096646</td>\n",
       "      <td>-0.224883</td>\n",
       "      <td>-0.025301</td>\n",
       "      <td>...</td>\n",
       "      <td>0.012472</td>\n",
       "      <td>-0.060064</td>\n",
       "      <td>-0.011445</td>\n",
       "      <td>-0.014477</td>\n",
       "      <td>-0.008795</td>\n",
       "      <td>0.021039</td>\n",
       "      <td>0.114771</td>\n",
       "      <td>0.000349</td>\n",
       "      <td>0.006891</td>\n",
       "      <td>-0.075814</td>\n",
       "    </tr>\n",
       "    <tr>\n",
       "      <td>total revol_bal</td>\n",
       "      <td>0.036416</td>\n",
       "      <td>0.333580</td>\n",
       "      <td>-0.035708</td>\n",
       "      <td>0.295784</td>\n",
       "      <td>0.067277</td>\n",
       "      <td>-0.032486</td>\n",
       "      <td>-0.017556</td>\n",
       "      <td>-0.026798</td>\n",
       "      <td>-0.025639</td>\n",
       "      <td>0.224542</td>\n",
       "      <td>...</td>\n",
       "      <td>0.189105</td>\n",
       "      <td>0.137380</td>\n",
       "      <td>0.002774</td>\n",
       "      <td>0.010828</td>\n",
       "      <td>0.008151</td>\n",
       "      <td>-0.022854</td>\n",
       "      <td>-0.019765</td>\n",
       "      <td>-0.000855</td>\n",
       "      <td>-0.006219</td>\n",
       "      <td>0.442036</td>\n",
       "    </tr>\n",
       "    <tr>\n",
       "      <td>total_credits</td>\n",
       "      <td>0.031692</td>\n",
       "      <td>0.222639</td>\n",
       "      <td>-0.038618</td>\n",
       "      <td>0.187335</td>\n",
       "      <td>0.108056</td>\n",
       "      <td>0.122713</td>\n",
       "      <td>0.135584</td>\n",
       "      <td>-0.044920</td>\n",
       "      <td>-0.177856</td>\n",
       "      <td>0.695075</td>\n",
       "      <td>...</td>\n",
       "      <td>1.000000</td>\n",
       "      <td>0.091914</td>\n",
       "      <td>-0.004904</td>\n",
       "      <td>0.009365</td>\n",
       "      <td>0.010323</td>\n",
       "      <td>0.008826</td>\n",
       "      <td>-0.047398</td>\n",
       "      <td>0.026461</td>\n",
       "      <td>0.006525</td>\n",
       "      <td>0.311074</td>\n",
       "    </tr>\n",
       "    <tr>\n",
       "      <td>total_rec_int</td>\n",
       "      <td>-0.461098</td>\n",
       "      <td>0.533916</td>\n",
       "      <td>0.445679</td>\n",
       "      <td>0.128535</td>\n",
       "      <td>0.008380</td>\n",
       "      <td>0.001665</td>\n",
       "      <td>0.085585</td>\n",
       "      <td>-0.028208</td>\n",
       "      <td>0.083147</td>\n",
       "      <td>0.061223</td>\n",
       "      <td>...</td>\n",
       "      <td>0.091914</td>\n",
       "      <td>1.000000</td>\n",
       "      <td>0.090391</td>\n",
       "      <td>0.067777</td>\n",
       "      <td>0.051901</td>\n",
       "      <td>-0.024999</td>\n",
       "      <td>-0.056786</td>\n",
       "      <td>0.002260</td>\n",
       "      <td>-0.003613</td>\n",
       "      <td>0.132343</td>\n",
       "    </tr>\n",
       "    <tr>\n",
       "      <td>total_rec_late_fee</td>\n",
       "      <td>-0.076388</td>\n",
       "      <td>0.031395</td>\n",
       "      <td>0.057150</td>\n",
       "      <td>0.013500</td>\n",
       "      <td>-0.005748</td>\n",
       "      <td>0.017432</td>\n",
       "      <td>0.031637</td>\n",
       "      <td>-0.021321</td>\n",
       "      <td>-0.025561</td>\n",
       "      <td>-0.009606</td>\n",
       "      <td>...</td>\n",
       "      <td>-0.004904</td>\n",
       "      <td>0.090391</td>\n",
       "      <td>1.000000</td>\n",
       "      <td>0.073540</td>\n",
       "      <td>0.068419</td>\n",
       "      <td>-0.003072</td>\n",
       "      <td>-0.010711</td>\n",
       "      <td>0.003121</td>\n",
       "      <td>-0.000501</td>\n",
       "      <td>0.011371</td>\n",
       "    </tr>\n",
       "    <tr>\n",
       "      <td>recoveries</td>\n",
       "      <td>-0.114473</td>\n",
       "      <td>0.073150</td>\n",
       "      <td>0.106840</td>\n",
       "      <td>0.007717</td>\n",
       "      <td>0.001162</td>\n",
       "      <td>-0.000729</td>\n",
       "      <td>0.045590</td>\n",
       "      <td>-0.004525</td>\n",
       "      <td>0.013120</td>\n",
       "      <td>0.001560</td>\n",
       "      <td>...</td>\n",
       "      <td>0.009365</td>\n",
       "      <td>0.067777</td>\n",
       "      <td>0.073540</td>\n",
       "      <td>1.000000</td>\n",
       "      <td>0.802420</td>\n",
       "      <td>-0.004791</td>\n",
       "      <td>-0.012581</td>\n",
       "      <td>0.000711</td>\n",
       "      <td>-0.000922</td>\n",
       "      <td>0.004210</td>\n",
       "    </tr>\n",
       "    <tr>\n",
       "      <td>collection_recovery_fee</td>\n",
       "      <td>-0.072818</td>\n",
       "      <td>0.052205</td>\n",
       "      <td>0.070867</td>\n",
       "      <td>0.006630</td>\n",
       "      <td>0.002159</td>\n",
       "      <td>0.000989</td>\n",
       "      <td>0.034007</td>\n",
       "      <td>-0.005180</td>\n",
       "      <td>0.002846</td>\n",
       "      <td>0.003217</td>\n",
       "      <td>...</td>\n",
       "      <td>0.010323</td>\n",
       "      <td>0.051901</td>\n",
       "      <td>0.068419</td>\n",
       "      <td>0.802420</td>\n",
       "      <td>1.000000</td>\n",
       "      <td>-0.002986</td>\n",
       "      <td>-0.009112</td>\n",
       "      <td>0.000380</td>\n",
       "      <td>-0.000516</td>\n",
       "      <td>0.005772</td>\n",
       "    </tr>\n",
       "    <tr>\n",
       "      <td>collections_12_mths_ex_med</td>\n",
       "      <td>0.051445</td>\n",
       "      <td>-0.016650</td>\n",
       "      <td>0.013336</td>\n",
       "      <td>-0.003936</td>\n",
       "      <td>-0.000292</td>\n",
       "      <td>0.063016</td>\n",
       "      <td>0.006850</td>\n",
       "      <td>-0.035834</td>\n",
       "      <td>-0.020923</td>\n",
       "      <td>0.009610</td>\n",
       "      <td>...</td>\n",
       "      <td>0.008826</td>\n",
       "      <td>-0.024999</td>\n",
       "      <td>-0.003072</td>\n",
       "      <td>-0.004791</td>\n",
       "      <td>-0.002986</td>\n",
       "      <td>1.000000</td>\n",
       "      <td>-0.104482</td>\n",
       "      <td>0.039644</td>\n",
       "      <td>0.009811</td>\n",
       "      <td>-0.010984</td>\n",
       "    </tr>\n",
       "    <tr>\n",
       "      <td>mths_since_last_major_derog</td>\n",
       "      <td>0.056087</td>\n",
       "      <td>-0.037278</td>\n",
       "      <td>-0.011180</td>\n",
       "      <td>-0.037394</td>\n",
       "      <td>0.007736</td>\n",
       "      <td>-0.424556</td>\n",
       "      <td>0.020546</td>\n",
       "      <td>0.699356</td>\n",
       "      <td>0.034511</td>\n",
       "      <td>0.009059</td>\n",
       "      <td>...</td>\n",
       "      <td>-0.047398</td>\n",
       "      <td>-0.056786</td>\n",
       "      <td>-0.010711</td>\n",
       "      <td>-0.012581</td>\n",
       "      <td>-0.009112</td>\n",
       "      <td>-0.104482</td>\n",
       "      <td>1.000000</td>\n",
       "      <td>-0.111359</td>\n",
       "      <td>0.004911</td>\n",
       "      <td>-0.068377</td>\n",
       "    </tr>\n",
       "    <tr>\n",
       "      <td>acc_now_delinq</td>\n",
       "      <td>0.016961</td>\n",
       "      <td>0.003947</td>\n",
       "      <td>0.026478</td>\n",
       "      <td>0.014775</td>\n",
       "      <td>0.003205</td>\n",
       "      <td>0.130326</td>\n",
       "      <td>-0.005329</td>\n",
       "      <td>-0.139118</td>\n",
       "      <td>-0.015947</td>\n",
       "      <td>0.017752</td>\n",
       "      <td>...</td>\n",
       "      <td>0.026461</td>\n",
       "      <td>0.002260</td>\n",
       "      <td>0.003121</td>\n",
       "      <td>0.000711</td>\n",
       "      <td>0.000380</td>\n",
       "      <td>0.039644</td>\n",
       "      <td>-0.111359</td>\n",
       "      <td>1.000000</td>\n",
       "      <td>0.000237</td>\n",
       "      <td>0.023394</td>\n",
       "    </tr>\n",
       "    <tr>\n",
       "      <td>tot_colle_amt</td>\n",
       "      <td>0.004292</td>\n",
       "      <td>-0.004275</td>\n",
       "      <td>0.001130</td>\n",
       "      <td>0.001096</td>\n",
       "      <td>-0.002084</td>\n",
       "      <td>0.000207</td>\n",
       "      <td>0.003171</td>\n",
       "      <td>0.006466</td>\n",
       "      <td>-0.059586</td>\n",
       "      <td>0.000124</td>\n",
       "      <td>...</td>\n",
       "      <td>0.006525</td>\n",
       "      <td>-0.003613</td>\n",
       "      <td>-0.000501</td>\n",
       "      <td>-0.000922</td>\n",
       "      <td>-0.000516</td>\n",
       "      <td>0.009811</td>\n",
       "      <td>0.004911</td>\n",
       "      <td>0.000237</td>\n",
       "      <td>1.000000</td>\n",
       "      <td>-0.000355</td>\n",
       "    </tr>\n",
       "    <tr>\n",
       "      <td>tot_curr_bal</td>\n",
       "      <td>0.007997</td>\n",
       "      <td>0.328782</td>\n",
       "      <td>-0.091408</td>\n",
       "      <td>0.418332</td>\n",
       "      <td>-0.007282</td>\n",
       "      <td>0.064762</td>\n",
       "      <td>0.034338</td>\n",
       "      <td>-0.093911</td>\n",
       "      <td>-0.026634</td>\n",
       "      <td>0.244134</td>\n",
       "      <td>...</td>\n",
       "      <td>0.311074</td>\n",
       "      <td>0.132343</td>\n",
       "      <td>0.011371</td>\n",
       "      <td>0.004210</td>\n",
       "      <td>0.005772</td>\n",
       "      <td>-0.010984</td>\n",
       "      <td>-0.068377</td>\n",
       "      <td>0.023394</td>\n",
       "      <td>-0.000355</td>\n",
       "      <td>1.000000</td>\n",
       "    </tr>\n",
       "  </tbody>\n",
       "</table>\n",
       "<p>22 rows × 22 columns</p>\n",
       "</div>"
      ],
      "text/plain": [
       "                             member_id   loan_amnt   Rate_of_intrst  \\\n",
       "member_id                      1.000000    0.064461       -0.142205   \n",
       "loan_amnt                      0.064461    1.000000        0.145023   \n",
       "Rate_of_intrst                -0.142205    0.145023        1.000000   \n",
       "annual_inc                     0.034146    0.332698       -0.072786   \n",
       "debt_income_ratio              0.067824    0.020675        0.079903   \n",
       "delinq_2yrs                    0.049904   -0.000159        0.055178   \n",
       "inq_last_6mths                -0.127257   -0.034168        0.227650   \n",
       "mths_since_last_delinq        -0.008682   -0.038080       -0.030033   \n",
       "mths_since_last_record        -0.158700   -0.010734        0.022485   \n",
       "numb_credit                    0.088838    0.198906       -0.010381   \n",
       "pub_rec                        0.080788   -0.081177        0.052156   \n",
       "total revol_bal                0.036416    0.333580       -0.035708   \n",
       "total_credits                  0.031692    0.222639       -0.038618   \n",
       "total_rec_int                 -0.461098    0.533916        0.445679   \n",
       "total_rec_late_fee            -0.076388    0.031395        0.057150   \n",
       "recoveries                    -0.114473    0.073150        0.106840   \n",
       "collection_recovery_fee       -0.072818    0.052205        0.070867   \n",
       "collections_12_mths_ex_med     0.051445   -0.016650        0.013336   \n",
       "mths_since_last_major_derog    0.056087   -0.037278       -0.011180   \n",
       "acc_now_delinq                 0.016961    0.003947        0.026478   \n",
       "tot_colle_amt                  0.004292   -0.004275        0.001130   \n",
       "tot_curr_bal                   0.007997    0.328782       -0.091408   \n",
       "\n",
       "                             annual_inc  debt_income_ratio  delinq_2yrs  \\\n",
       "member_id                      0.034146           0.067824     0.049904   \n",
       "loan_amnt                      0.332698           0.020675    -0.000159   \n",
       "Rate_of_intrst                -0.072786           0.079903     0.055178   \n",
       "annual_inc                     1.000000          -0.087410     0.047470   \n",
       "debt_income_ratio             -0.087410           1.000000    -0.002831   \n",
       "delinq_2yrs                    0.047470          -0.002831     1.000000   \n",
       "inq_last_6mths                 0.035193          -0.008106     0.021375   \n",
       "mths_since_last_delinq        -0.050350           0.001447    -0.562654   \n",
       "mths_since_last_record        -0.096151           0.065933    -0.088179   \n",
       "numb_credit                    0.138392           0.144250     0.051189   \n",
       "pub_rec                       -0.008341          -0.022926    -0.011004   \n",
       "total revol_bal                0.295784           0.067277    -0.032486   \n",
       "total_credits                  0.187335           0.108056     0.122713   \n",
       "total_rec_int                  0.128535           0.008380     0.001665   \n",
       "total_rec_late_fee             0.013500          -0.005748     0.017432   \n",
       "recoveries                     0.007717           0.001162    -0.000729   \n",
       "collection_recovery_fee        0.006630           0.002159     0.000989   \n",
       "collections_12_mths_ex_med    -0.003936          -0.000292     0.063016   \n",
       "mths_since_last_major_derog   -0.037394           0.007736    -0.424556   \n",
       "acc_now_delinq                 0.014775           0.003205     0.130326   \n",
       "tot_colle_amt                  0.001096          -0.002084     0.000207   \n",
       "tot_curr_bal                   0.418332          -0.007282     0.064762   \n",
       "\n",
       "                             inq_last_6mths  mths_since_last_delinq  \\\n",
       "member_id                         -0.127257               -0.008682   \n",
       "loan_amnt                         -0.034168               -0.038080   \n",
       "Rate_of_intrst                     0.227650               -0.030033   \n",
       "annual_inc                         0.035193               -0.050350   \n",
       "debt_income_ratio                 -0.008106                0.001447   \n",
       "delinq_2yrs                        0.021375               -0.562654   \n",
       "inq_last_6mths                     1.000000                0.014748   \n",
       "mths_since_last_delinq             0.014748                1.000000   \n",
       "mths_since_last_record            -0.086349                0.019038   \n",
       "numb_credit                        0.111235               -0.043182   \n",
       "pub_rec                            0.056870                0.096646   \n",
       "total revol_bal                   -0.017556               -0.026798   \n",
       "total_credits                      0.135584               -0.044920   \n",
       "total_rec_int                      0.085585               -0.028208   \n",
       "total_rec_late_fee                 0.031637               -0.021321   \n",
       "recoveries                         0.045590               -0.004525   \n",
       "collection_recovery_fee            0.034007               -0.005180   \n",
       "collections_12_mths_ex_med         0.006850               -0.035834   \n",
       "mths_since_last_major_derog        0.020546                0.699356   \n",
       "acc_now_delinq                    -0.005329               -0.139118   \n",
       "tot_colle_amt                      0.003171                0.006466   \n",
       "tot_curr_bal                       0.034338               -0.093911   \n",
       "\n",
       "                             mths_since_last_record  numb_credit  ...  \\\n",
       "member_id                                 -0.158700     0.088838  ...   \n",
       "loan_amnt                                 -0.010734     0.198906  ...   \n",
       "Rate_of_intrst                             0.022485    -0.010381  ...   \n",
       "annual_inc                                -0.096151     0.138392  ...   \n",
       "debt_income_ratio                          0.065933     0.144250  ...   \n",
       "delinq_2yrs                               -0.088179     0.051189  ...   \n",
       "inq_last_6mths                            -0.086349     0.111235  ...   \n",
       "mths_since_last_delinq                     0.019038    -0.043182  ...   \n",
       "mths_since_last_record                     1.000000     0.012445  ...   \n",
       "numb_credit                                0.012445     1.000000  ...   \n",
       "pub_rec                                   -0.224883    -0.025301  ...   \n",
       "total revol_bal                           -0.025639     0.224542  ...   \n",
       "total_credits                             -0.177856     0.695075  ...   \n",
       "total_rec_int                              0.083147     0.061223  ...   \n",
       "total_rec_late_fee                        -0.025561    -0.009606  ...   \n",
       "recoveries                                 0.013120     0.001560  ...   \n",
       "collection_recovery_fee                    0.002846     0.003217  ...   \n",
       "collections_12_mths_ex_med                -0.020923     0.009610  ...   \n",
       "mths_since_last_major_derog                0.034511     0.009059  ...   \n",
       "acc_now_delinq                            -0.015947     0.017752  ...   \n",
       "tot_colle_amt                             -0.059586     0.000124  ...   \n",
       "tot_curr_bal                              -0.026634     0.244134  ...   \n",
       "\n",
       "                             total_credits  total_rec_int  total_rec_late_fee  \\\n",
       "member_id                         0.031692      -0.461098           -0.076388   \n",
       "loan_amnt                         0.222639       0.533916            0.031395   \n",
       "Rate_of_intrst                   -0.038618       0.445679            0.057150   \n",
       "annual_inc                        0.187335       0.128535            0.013500   \n",
       "debt_income_ratio                 0.108056       0.008380           -0.005748   \n",
       "delinq_2yrs                       0.122713       0.001665            0.017432   \n",
       "inq_last_6mths                    0.135584       0.085585            0.031637   \n",
       "mths_since_last_delinq           -0.044920      -0.028208           -0.021321   \n",
       "mths_since_last_record           -0.177856       0.083147           -0.025561   \n",
       "numb_credit                       0.695075       0.061223           -0.009606   \n",
       "pub_rec                           0.012472      -0.060064           -0.011445   \n",
       "total revol_bal                   0.189105       0.137380            0.002774   \n",
       "total_credits                     1.000000       0.091914           -0.004904   \n",
       "total_rec_int                     0.091914       1.000000            0.090391   \n",
       "total_rec_late_fee               -0.004904       0.090391            1.000000   \n",
       "recoveries                        0.009365       0.067777            0.073540   \n",
       "collection_recovery_fee           0.010323       0.051901            0.068419   \n",
       "collections_12_mths_ex_med        0.008826      -0.024999           -0.003072   \n",
       "mths_since_last_major_derog      -0.047398      -0.056786           -0.010711   \n",
       "acc_now_delinq                    0.026461       0.002260            0.003121   \n",
       "tot_colle_amt                     0.006525      -0.003613           -0.000501   \n",
       "tot_curr_bal                      0.311074       0.132343            0.011371   \n",
       "\n",
       "                             recoveries  collection_recovery_fee  \\\n",
       "member_id                     -0.114473                -0.072818   \n",
       "loan_amnt                      0.073150                 0.052205   \n",
       "Rate_of_intrst                 0.106840                 0.070867   \n",
       "annual_inc                     0.007717                 0.006630   \n",
       "debt_income_ratio              0.001162                 0.002159   \n",
       "delinq_2yrs                   -0.000729                 0.000989   \n",
       "inq_last_6mths                 0.045590                 0.034007   \n",
       "mths_since_last_delinq        -0.004525                -0.005180   \n",
       "mths_since_last_record         0.013120                 0.002846   \n",
       "numb_credit                    0.001560                 0.003217   \n",
       "pub_rec                       -0.014477                -0.008795   \n",
       "total revol_bal                0.010828                 0.008151   \n",
       "total_credits                  0.009365                 0.010323   \n",
       "total_rec_int                  0.067777                 0.051901   \n",
       "total_rec_late_fee             0.073540                 0.068419   \n",
       "recoveries                     1.000000                 0.802420   \n",
       "collection_recovery_fee        0.802420                 1.000000   \n",
       "collections_12_mths_ex_med    -0.004791                -0.002986   \n",
       "mths_since_last_major_derog   -0.012581                -0.009112   \n",
       "acc_now_delinq                 0.000711                 0.000380   \n",
       "tot_colle_amt                 -0.000922                -0.000516   \n",
       "tot_curr_bal                   0.004210                 0.005772   \n",
       "\n",
       "                             collections_12_mths_ex_med  \\\n",
       "member_id                                      0.051445   \n",
       "loan_amnt                                     -0.016650   \n",
       "Rate_of_intrst                                 0.013336   \n",
       "annual_inc                                    -0.003936   \n",
       "debt_income_ratio                             -0.000292   \n",
       "delinq_2yrs                                    0.063016   \n",
       "inq_last_6mths                                 0.006850   \n",
       "mths_since_last_delinq                        -0.035834   \n",
       "mths_since_last_record                        -0.020923   \n",
       "numb_credit                                    0.009610   \n",
       "pub_rec                                        0.021039   \n",
       "total revol_bal                               -0.022854   \n",
       "total_credits                                  0.008826   \n",
       "total_rec_int                                 -0.024999   \n",
       "total_rec_late_fee                            -0.003072   \n",
       "recoveries                                    -0.004791   \n",
       "collection_recovery_fee                       -0.002986   \n",
       "collections_12_mths_ex_med                     1.000000   \n",
       "mths_since_last_major_derog                   -0.104482   \n",
       "acc_now_delinq                                 0.039644   \n",
       "tot_colle_amt                                  0.009811   \n",
       "tot_curr_bal                                  -0.010984   \n",
       "\n",
       "                             mths_since_last_major_derog  acc_now_delinq  \\\n",
       "member_id                                       0.056087        0.016961   \n",
       "loan_amnt                                      -0.037278        0.003947   \n",
       "Rate_of_intrst                                 -0.011180        0.026478   \n",
       "annual_inc                                     -0.037394        0.014775   \n",
       "debt_income_ratio                               0.007736        0.003205   \n",
       "delinq_2yrs                                    -0.424556        0.130326   \n",
       "inq_last_6mths                                  0.020546       -0.005329   \n",
       "mths_since_last_delinq                          0.699356       -0.139118   \n",
       "mths_since_last_record                          0.034511       -0.015947   \n",
       "numb_credit                                     0.009059        0.017752   \n",
       "pub_rec                                         0.114771        0.000349   \n",
       "total revol_bal                                -0.019765       -0.000855   \n",
       "total_credits                                  -0.047398        0.026461   \n",
       "total_rec_int                                  -0.056786        0.002260   \n",
       "total_rec_late_fee                             -0.010711        0.003121   \n",
       "recoveries                                     -0.012581        0.000711   \n",
       "collection_recovery_fee                        -0.009112        0.000380   \n",
       "collections_12_mths_ex_med                     -0.104482        0.039644   \n",
       "mths_since_last_major_derog                     1.000000       -0.111359   \n",
       "acc_now_delinq                                 -0.111359        1.000000   \n",
       "tot_colle_amt                                   0.004911        0.000237   \n",
       "tot_curr_bal                                   -0.068377        0.023394   \n",
       "\n",
       "                             tot_colle_amt  tot_curr_bal  \n",
       "member_id                         0.004292      0.007997  \n",
       "loan_amnt                        -0.004275      0.328782  \n",
       "Rate_of_intrst                    0.001130     -0.091408  \n",
       "annual_inc                        0.001096      0.418332  \n",
       "debt_income_ratio                -0.002084     -0.007282  \n",
       "delinq_2yrs                       0.000207      0.064762  \n",
       "inq_last_6mths                    0.003171      0.034338  \n",
       "mths_since_last_delinq            0.006466     -0.093911  \n",
       "mths_since_last_record           -0.059586     -0.026634  \n",
       "numb_credit                       0.000124      0.244134  \n",
       "pub_rec                           0.006891     -0.075814  \n",
       "total revol_bal                  -0.006219      0.442036  \n",
       "total_credits                     0.006525      0.311074  \n",
       "total_rec_int                    -0.003613      0.132343  \n",
       "total_rec_late_fee               -0.000501      0.011371  \n",
       "recoveries                       -0.000922      0.004210  \n",
       "collection_recovery_fee          -0.000516      0.005772  \n",
       "collections_12_mths_ex_med        0.009811     -0.010984  \n",
       "mths_since_last_major_derog       0.004911     -0.068377  \n",
       "acc_now_delinq                    0.000237      0.023394  \n",
       "tot_colle_amt                     1.000000     -0.000355  \n",
       "tot_curr_bal                     -0.000355      1.000000  \n",
       "\n",
       "[22 rows x 22 columns]"
      ]
     },
     "execution_count": 16,
     "metadata": {},
     "output_type": "execute_result"
    }
   ],
   "source": [
    "df.corr()"
   ]
  },
  {
   "cell_type": "markdown",
   "metadata": {},
   "source": [
    "###### Visualizing this using a heatmap"
   ]
  },
  {
   "cell_type": "code",
   "execution_count": 17,
   "metadata": {},
   "outputs": [
    {
     "data": {
      "text/plain": [
       "<matplotlib.axes._subplots.AxesSubplot at 0x7fa0caa5a190>"
      ]
     },
     "execution_count": 17,
     "metadata": {},
     "output_type": "execute_result"
    },
    {
     "data": {
      "image/png": "[encoded data removed]",
      "text/plain": [
       "<Figure size 1584x1296 with 2 Axes>"
      ]
     },
     "metadata": {
      "needs_background": "light"
     },
     "output_type": "display_data"
    }
   ],
   "source": [
    "plt.figure(figsize=(22,18))\n",
    "sns.heatmap(df.corr(),annot=True,cmap='viridis')"
   ]
  },
  {
   "cell_type": "markdown",
   "metadata": {},
   "source": [
    "###### We can see a high corelation between recoveries & collection_recovery_fee, so we will see the posiblity of any colinearity "
   ]
  },
  {
   "cell_type": "code",
   "execution_count": 18,
   "metadata": {},
   "outputs": [],
   "source": [
    "# plt.figure(figsize=(12,6))\n",
    "# sns.scatterplot(x='recoveries',y='collection_recovery_fee',data=df,)"
   ]
  },
  {
   "cell_type": "markdown",
   "metadata": {},
   "source": [
    "Creating a boxplot showing the relationship between the grade and the loan_amnt"
   ]
  },
  {
   "cell_type": "code",
   "execution_count": 19,
   "metadata": {},
   "outputs": [],
   "source": [
    "# plt.figure(figsize=(12,6))\n",
    "# sns.boxplot(x='grade',y='loan_amnt ',data=df)"
   ]
  },
  {
   "cell_type": "code",
   "execution_count": 20,
   "metadata": {},
   "outputs": [],
   "source": [
    "# plt.figure(figsize=(12,8))\n",
    "# sns.scatterplot(x='total_credits',y='numb_credit',data=df)"
   ]
  },
  {
   "cell_type": "markdown",
   "metadata": {},
   "source": [
    "This is quite evident that the number of credit is linearly corelated with the total credit "
   ]
  },
  {
   "cell_type": "code",
   "execution_count": 21,
   "metadata": {},
   "outputs": [],
   "source": [
    "# plt.figure(figsize=(12,8))\n",
    "# sns.scatterplot(x='loan_amnt ',y='total revol_bal',data=df)"
   ]
  },
  {
   "cell_type": "markdown",
   "metadata": {},
   "source": [
    "there is an incrimental relationship between the revolving balance and loan amount"
   ]
  },
  {
   "cell_type": "code",
   "execution_count": 22,
   "metadata": {},
   "outputs": [],
   "source": [
    "# df.sort_values('total revol_bal',ascending=False).head(20)"
   ]
  },
  {
   "cell_type": "code",
   "execution_count": 23,
   "metadata": {},
   "outputs": [],
   "source": [
    "# sns.boxplot(x='terms',y='loan_amnt ',data=df)"
   ]
  },
  {
   "cell_type": "code",
   "execution_count": 24,
   "metadata": {},
   "outputs": [
    {
     "data": {
      "text/plain": [
       "member_id                      0.036416\n",
       "loan_amnt                      0.333580\n",
       "Rate_of_intrst                -0.035708\n",
       "annual_inc                     0.295784\n",
       "debt_income_ratio              0.067277\n",
       "delinq_2yrs                   -0.032486\n",
       "inq_last_6mths                -0.017556\n",
       "mths_since_last_delinq        -0.026798\n",
       "mths_since_last_record        -0.025639\n",
       "numb_credit                    0.224542\n",
       "pub_rec                       -0.100609\n",
       "total revol_bal                1.000000\n",
       "total_credits                  0.189105\n",
       "total_rec_int                  0.137380\n",
       "total_rec_late_fee             0.002774\n",
       "recoveries                     0.010828\n",
       "collection_recovery_fee        0.008151\n",
       "collections_12_mths_ex_med    -0.022854\n",
       "mths_since_last_major_derog   -0.019765\n",
       "acc_now_delinq                -0.000855\n",
       "tot_colle_amt                 -0.006219\n",
       "tot_curr_bal                   0.442036\n",
       "Name: total revol_bal, dtype: float64"
      ]
     },
     "execution_count": 24,
     "metadata": {},
     "output_type": "execute_result"
    }
   ],
   "source": [
    "df.corr()['total revol_bal']"
   ]
  },
  {
   "cell_type": "code",
   "execution_count": 25,
   "metadata": {},
   "outputs": [],
   "source": [
    "# df.groupby('initial_list_status')['total revol_bal'].describe()"
   ]
  },
  {
   "cell_type": "markdown",
   "metadata": {},
   "source": [
    "###### The Grade and SubGrade columns that Revolving credit attributes to the loans and find out what are the unique possible grades and subgrades"
   ]
  },
  {
   "cell_type": "code",
   "execution_count": 26,
   "metadata": {},
   "outputs": [],
   "source": [
    "# sorted(df['grade'].unique())"
   ]
  },
  {
   "cell_type": "code",
   "execution_count": 27,
   "metadata": {},
   "outputs": [],
   "source": [
    "# sorted(df['sub_grade'].unique())"
   ]
  },
  {
   "cell_type": "code",
   "execution_count": 28,
   "metadata": {},
   "outputs": [],
   "source": [
    "# plt.figure(figsize=(10,6))\n",
    "# sns.countplot(x='grade',data=df,hue='terms')"
   ]
  },
  {
   "cell_type": "code",
   "execution_count": 29,
   "metadata": {},
   "outputs": [],
   "source": [
    "# plt.figure(figsize=(12,4))\n",
    "# subgrade_order = sorted(df['sub_grade'].unique())\n",
    "# sns.countplot(x='sub_grade',data=df,order = subgrade_order,palette='coolwarm' )"
   ]
  },
  {
   "cell_type": "code",
   "execution_count": 30,
   "metadata": {},
   "outputs": [],
   "source": [
    "# plt.figure(figsize=(12,4))\n",
    "# subgrade_order = sorted(df['sub_grade'].unique())\n",
    "# sns.countplot(x='sub_grade',data=df,order = subgrade_order,palette='coolwarm' ,hue='terms_status')"
   ]
  },
  {
   "cell_type": "markdown",
   "metadata": {},
   "source": [
    "###### It looks like F and G subgrades usually get higher term often. Isloate those and recreate the countplot just for those subgrades."
   ]
  },
  {
   "cell_type": "code",
   "execution_count": 31,
   "metadata": {},
   "outputs": [],
   "source": [
    "# f_and_g = df[(df['grade']=='G') | (df['grade']=='F')]\n",
    "\n",
    "# plt.figure(figsize=(12,4))\n",
    "# subgrade_order = sorted(f_and_g['sub_grade'].unique())\n",
    "# sns.countplot(x='sub_grade',data=f_and_g,order = subgrade_order,hue='terms_status')"
   ]
  },
  {
   "cell_type": "code",
   "execution_count": 32,
   "metadata": {},
   "outputs": [],
   "source": [
    "# df['terms'].unique()"
   ]
  },
  {
   "cell_type": "code",
   "execution_count": 33,
   "metadata": {},
   "outputs": [],
   "source": [
    "df['terms_status'] = df['terms'].map({'36 months':1,'60 months':0})"
   ]
  },
  {
   "cell_type": "code",
   "execution_count": 34,
   "metadata": {},
   "outputs": [
    {
     "data": {
      "text/html": [
       "<div>\n",
       "<style scoped>\n",
       "    .dataframe tbody tr th:only-of-type {\n",
       "        vertical-align: middle;\n",
       "    }\n",
       "\n",
       "    .dataframe tbody tr th {\n",
       "        vertical-align: top;\n",
       "    }\n",
       "\n",
       "    .dataframe thead th {\n",
       "        text-align: right;\n",
       "    }\n",
       "</style>\n",
       "<table border=\"1\" class=\"dataframe\">\n",
       "  <thead>\n",
       "    <tr style=\"text-align: right;\">\n",
       "      <th></th>\n",
       "      <th>terms_status</th>\n",
       "      <th>terms</th>\n",
       "    </tr>\n",
       "  </thead>\n",
       "  <tbody>\n",
       "    <tr>\n",
       "      <td>0</td>\n",
       "      <td>1</td>\n",
       "      <td>36 months</td>\n",
       "    </tr>\n",
       "    <tr>\n",
       "      <td>1</td>\n",
       "      <td>1</td>\n",
       "      <td>36 months</td>\n",
       "    </tr>\n",
       "    <tr>\n",
       "      <td>2</td>\n",
       "      <td>1</td>\n",
       "      <td>36 months</td>\n",
       "    </tr>\n",
       "    <tr>\n",
       "      <td>3</td>\n",
       "      <td>1</td>\n",
       "      <td>36 months</td>\n",
       "    </tr>\n",
       "    <tr>\n",
       "      <td>4</td>\n",
       "      <td>1</td>\n",
       "      <td>36 months</td>\n",
       "    </tr>\n",
       "    <tr>\n",
       "      <td>...</td>\n",
       "      <td>...</td>\n",
       "      <td>...</td>\n",
       "    </tr>\n",
       "    <tr>\n",
       "      <td>887374</td>\n",
       "      <td>1</td>\n",
       "      <td>36 months</td>\n",
       "    </tr>\n",
       "    <tr>\n",
       "      <td>887375</td>\n",
       "      <td>0</td>\n",
       "      <td>60 months</td>\n",
       "    </tr>\n",
       "    <tr>\n",
       "      <td>887376</td>\n",
       "      <td>0</td>\n",
       "      <td>60 months</td>\n",
       "    </tr>\n",
       "    <tr>\n",
       "      <td>887377</td>\n",
       "      <td>1</td>\n",
       "      <td>36 months</td>\n",
       "    </tr>\n",
       "    <tr>\n",
       "      <td>887378</td>\n",
       "      <td>0</td>\n",
       "      <td>60 months</td>\n",
       "    </tr>\n",
       "  </tbody>\n",
       "</table>\n",
       "<p>887379 rows × 2 columns</p>\n",
       "</div>"
      ],
      "text/plain": [
       "        terms_status      terms\n",
       "0                  1  36 months\n",
       "1                  1  36 months\n",
       "2                  1  36 months\n",
       "3                  1  36 months\n",
       "4                  1  36 months\n",
       "...              ...        ...\n",
       "887374             1  36 months\n",
       "887375             0  60 months\n",
       "887376             0  60 months\n",
       "887377             1  36 months\n",
       "887378             0  60 months\n",
       "\n",
       "[887379 rows x 2 columns]"
      ]
     },
     "execution_count": 34,
     "metadata": {},
     "output_type": "execute_result"
    }
   ],
   "source": [
    "df[['terms_status','terms']]"
   ]
  },
  {
   "cell_type": "code",
   "execution_count": 35,
   "metadata": {},
   "outputs": [
    {
     "data": {
      "text/plain": [
       "<matplotlib.axes._subplots.AxesSubplot at 0x7fa0653b1b50>"
      ]
     },
     "execution_count": 35,
     "metadata": {},
     "output_type": "execute_result"
    },
    {
     "data": {
      "image/png": "[encoded data removed]",
      "text/plain": [
       "<Figure size 720x432 with 1 Axes>"
      ]
     },
     "metadata": {
      "needs_background": "light"
     },
     "output_type": "display_data"
    }
   ],
   "source": [
    "plt.figure(figsize=(10,6))\n",
    "df.corr()['terms_status'].sort_values().drop('terms_status').plot(kind='bar')"
   ]
  },
  {
   "cell_type": "code",
   "execution_count": 36,
   "metadata": {},
   "outputs": [],
   "source": [
    "df.drop('terms',axis=1,inplace=True)"
   ]
  },
  {
   "cell_type": "code",
   "execution_count": 37,
   "metadata": {},
   "outputs": [],
   "source": [
    "# dataset[\"application_type\"]= dataset[\"application_type\"].astype(str)"
   ]
  },
  {
   "cell_type": "markdown",
   "metadata": {},
   "source": [
    "# Missing Data\n",
    "\n",
    "**Will be exploring the missing data columns. We use a variety of factors to decide whether or not they would be useful, to see if we should keep, discard, or fill in the missing data.**"
   ]
  },
  {
   "cell_type": "code",
   "execution_count": 38,
   "metadata": {},
   "outputs": [
    {
     "data": {
      "text/plain": [
       "member_id                           0\n",
       "loan_amnt                           0\n",
       "terms                               0\n",
       "batch_ID                       130748\n",
       "Rate_of_intrst                      0\n",
       "grade                               0\n",
       "sub_grade                           0\n",
       "Emp_designation                 51462\n",
       "Experience                      44825\n",
       "home_ownership                      0\n",
       "annual_inc                          4\n",
       "verification_status                 0\n",
       "purpose                             0\n",
       "State                               0\n",
       "debt_income_ratio                   0\n",
       "delinq_2yrs                        29\n",
       "inq_last_6mths                     29\n",
       "mths_since_last_delinq         454312\n",
       "mths_since_last_record         750326\n",
       "numb_credit                        29\n",
       "pub_rec                            29\n",
       "total revol_bal                     0\n",
       "total_credits                      29\n",
       "initial_list_status                 0\n",
       "total_rec_int                       0\n",
       "total_rec_late_fee                  0\n",
       "recoveries                          0\n",
       "collection_recovery_fee             0\n",
       "collections_12_mths_ex_med        145\n",
       "mths_since_last_major_derog    665676\n",
       "application_type                    0\n",
       "verification_status_joint      886868\n",
       "last_week_pay                       0\n",
       "acc_now_delinq                     29\n",
       "tot_colle_amt                   70276\n",
       "tot_curr_bal                    70276\n",
       "dtype: int64"
      ]
     },
     "execution_count": 38,
     "metadata": {},
     "output_type": "execute_result"
    }
   ],
   "source": [
    "dataset.isnull().sum()"
   ]
  },
  {
   "cell_type": "code",
   "execution_count": 39,
   "metadata": {},
   "outputs": [
    {
     "data": {
      "text/plain": [
       "member_id                       0.000000\n",
       "loan_amnt                       0.000000\n",
       "terms                           0.000000\n",
       "batch_ID                       14.734178\n",
       "Rate_of_intrst                  0.000000\n",
       "grade                           0.000000\n",
       "sub_grade                       0.000000\n",
       "Emp_designation                 5.799326\n",
       "Experience                      5.051393\n",
       "home_ownership                  0.000000\n",
       "annual_inc                      0.000451\n",
       "verification_status             0.000000\n",
       "purpose                         0.000000\n",
       "State                           0.000000\n",
       "debt_income_ratio               0.000000\n",
       "delinq_2yrs                     0.003268\n",
       "inq_last_6mths                  0.003268\n",
       "mths_since_last_delinq         51.197065\n",
       "mths_since_last_record         84.555303\n",
       "numb_credit                     0.003268\n",
       "pub_rec                         0.003268\n",
       "total revol_bal                 0.000000\n",
       "total_credits                   0.003268\n",
       "initial_list_status             0.000000\n",
       "total_rec_int                   0.000000\n",
       "total_rec_late_fee              0.000000\n",
       "recoveries                      0.000000\n",
       "collection_recovery_fee         0.000000\n",
       "collections_12_mths_ex_med      0.016340\n",
       "mths_since_last_major_derog    75.015974\n",
       "application_type                0.000000\n",
       "verification_status_joint      99.942415\n",
       "last_week_pay                   0.000000\n",
       "acc_now_delinq                  0.003268\n",
       "tot_colle_amt                   7.919502\n",
       "tot_curr_bal                    7.919502\n",
       "dtype: float64"
      ]
     },
     "execution_count": 39,
     "metadata": {},
     "output_type": "execute_result"
    }
   ],
   "source": [
    "100*dataset.isnull().sum()/len(dataset)"
   ]
  },
  {
   "cell_type": "code",
   "execution_count": 40,
   "metadata": {},
   "outputs": [
    {
     "data": {
      "text/plain": [
       "<matplotlib.axes._subplots.AxesSubplot at 0x7fa0caa53f50>"
      ]
     },
     "execution_count": 40,
     "metadata": {},
     "output_type": "execute_result"
    },
    {
     "data": {
      "image/png": "[encoded data removed]",
      "text/plain": [
       "<Figure size 1440x864 with 2 Axes>"
      ]
     },
     "metadata": {
      "needs_background": "light"
     },
     "output_type": "display_data"
    }
   ],
   "source": [
    "plt.figure(figsize=(20,12))\n",
    "sns.heatmap(dataset.isnull(),cmap='viridis')"
   ]
  },
  {
   "cell_type": "markdown",
   "metadata": {},
   "source": [
    "It is quite evident that there are quite a number of variable which are missing values as per the heatmap. So will we try to see the percentage of all the missing data's. specially for \n",
    "\n",
    "[batch_ID, Emp_designation, Experience, mths_since_last_delinq, mths_since_last_record, mths_since_last_major_derog, verification_status_joint, tot_colle_amt, tot_curr_bal]"
   ]
  },
  {
   "cell_type": "markdown",
   "metadata": {},
   "source": [
    "#### Let's examine Emp_designation and Experience to see whether it will be okay to drop them."
   ]
  },
  {
   "cell_type": "code",
   "execution_count": 41,
   "metadata": {},
   "outputs": [
    {
     "data": {
      "text/html": [
       "<div>\n",
       "<style scoped>\n",
       "    .dataframe tbody tr th:only-of-type {\n",
       "        vertical-align: middle;\n",
       "    }\n",
       "\n",
       "    .dataframe tbody tr th {\n",
       "        vertical-align: top;\n",
       "    }\n",
       "\n",
       "    .dataframe thead th {\n",
       "        text-align: right;\n",
       "    }\n",
       "</style>\n",
       "<table border=\"1\" class=\"dataframe\">\n",
       "  <thead>\n",
       "    <tr style=\"text-align: right;\">\n",
       "      <th></th>\n",
       "      <th>Emp_designation</th>\n",
       "      <th>Experience</th>\n",
       "    </tr>\n",
       "  </thead>\n",
       "  <tbody>\n",
       "    <tr>\n",
       "      <td>count</td>\n",
       "      <td>835917</td>\n",
       "      <td>842554</td>\n",
       "    </tr>\n",
       "    <tr>\n",
       "      <td>unique</td>\n",
       "      <td>289207</td>\n",
       "      <td>11</td>\n",
       "    </tr>\n",
       "    <tr>\n",
       "      <td>top</td>\n",
       "      <td>Teacher</td>\n",
       "      <td>10+ years</td>\n",
       "    </tr>\n",
       "    <tr>\n",
       "      <td>freq</td>\n",
       "      <td>13807</td>\n",
       "      <td>291569</td>\n",
       "    </tr>\n",
       "  </tbody>\n",
       "</table>\n",
       "</div>"
      ],
      "text/plain": [
       "       Emp_designation Experience\n",
       "count           835917     842554\n",
       "unique          289207         11\n",
       "top            Teacher  10+ years\n",
       "freq             13807     291569"
      ]
     },
     "execution_count": 41,
     "metadata": {},
     "output_type": "execute_result"
    }
   ],
   "source": [
    "dataset.iloc[:,7:9].describe()"
   ]
  },
  {
   "cell_type": "code",
   "execution_count": 42,
   "metadata": {},
   "outputs": [
    {
     "data": {
      "text/plain": [
       "Teacher                         13807\n",
       "Manager                         11638\n",
       "Registered Nurse                 5691\n",
       "Owner                            5512\n",
       "RN                               5491\n",
       "                                ...  \n",
       "Admin  Assistant                    1\n",
       "GIS Proposal Writer                 1\n",
       "markeeting                          1\n",
       "Ablitt Scofield, P.C.               1\n",
       "Program Manager, Marketplace        1\n",
       "Name: Emp_designation, Length: 289207, dtype: int64"
      ]
     },
     "execution_count": 42,
     "metadata": {},
     "output_type": "execute_result"
    }
   ],
   "source": [
    "dataset.iloc[:,7].value_counts()"
   ]
  },
  {
   "cell_type": "markdown",
   "metadata": {},
   "source": [
    "Realistically there are too many unique job titles to try to convert them to a dummy variable feature. once we will try to catagorise it by the total salary and see the fisibility  or else we will remove that Emp_designation column"
   ]
  },
  {
   "cell_type": "code",
   "execution_count": 43,
   "metadata": {},
   "outputs": [],
   "source": [
    "df = df.drop('Emp_designation',axis=1)"
   ]
  },
  {
   "cell_type": "code",
   "execution_count": 44,
   "metadata": {},
   "outputs": [],
   "source": [
    "df = df.drop('batch_ID ',axis=1)"
   ]
  },
  {
   "cell_type": "code",
   "execution_count": 45,
   "metadata": {},
   "outputs": [
    {
     "data": {
      "text/html": [
       "<div>\n",
       "<style scoped>\n",
       "    .dataframe tbody tr th:only-of-type {\n",
       "        vertical-align: middle;\n",
       "    }\n",
       "\n",
       "    .dataframe tbody tr th {\n",
       "        vertical-align: top;\n",
       "    }\n",
       "\n",
       "    .dataframe thead th {\n",
       "        text-align: right;\n",
       "    }\n",
       "</style>\n",
       "<table border=\"1\" class=\"dataframe\">\n",
       "  <thead>\n",
       "    <tr style=\"text-align: right;\">\n",
       "      <th></th>\n",
       "      <th>member_id</th>\n",
       "      <th>loan_amnt</th>\n",
       "      <th>Rate_of_intrst</th>\n",
       "      <th>grade</th>\n",
       "      <th>sub_grade</th>\n",
       "      <th>Experience</th>\n",
       "      <th>home_ownership</th>\n",
       "      <th>annual_inc</th>\n",
       "      <th>verification_status</th>\n",
       "      <th>purpose</th>\n",
       "      <th>...</th>\n",
       "      <th>collection_recovery_fee</th>\n",
       "      <th>collections_12_mths_ex_med</th>\n",
       "      <th>mths_since_last_major_derog</th>\n",
       "      <th>application_type</th>\n",
       "      <th>verification_status_joint</th>\n",
       "      <th>last_week_pay</th>\n",
       "      <th>acc_now_delinq</th>\n",
       "      <th>tot_colle_amt</th>\n",
       "      <th>tot_curr_bal</th>\n",
       "      <th>terms_status</th>\n",
       "    </tr>\n",
       "  </thead>\n",
       "  <tbody>\n",
       "    <tr>\n",
       "      <td>170053</td>\n",
       "      <td>70735</td>\n",
       "      <td>6500</td>\n",
       "      <td>8.38</td>\n",
       "      <td>A</td>\n",
       "      <td>A5</td>\n",
       "      <td>&lt; 1 year</td>\n",
       "      <td>NONE</td>\n",
       "      <td>NaN</td>\n",
       "      <td>Not Verified</td>\n",
       "      <td>other</td>\n",
       "      <td>...</td>\n",
       "      <td>0.0</td>\n",
       "      <td>NaN</td>\n",
       "      <td>NaN</td>\n",
       "      <td>INDIVIDUAL</td>\n",
       "      <td>NaN</td>\n",
       "      <td>157th week</td>\n",
       "      <td>NaN</td>\n",
       "      <td>NaN</td>\n",
       "      <td>NaN</td>\n",
       "      <td>1</td>\n",
       "    </tr>\n",
       "    <tr>\n",
       "      <td>198875</td>\n",
       "      <td>79906</td>\n",
       "      <td>7000</td>\n",
       "      <td>7.75</td>\n",
       "      <td>A</td>\n",
       "      <td>A3</td>\n",
       "      <td>&lt; 1 year</td>\n",
       "      <td>NONE</td>\n",
       "      <td>NaN</td>\n",
       "      <td>Not Verified</td>\n",
       "      <td>other</td>\n",
       "      <td>...</td>\n",
       "      <td>0.0</td>\n",
       "      <td>NaN</td>\n",
       "      <td>NaN</td>\n",
       "      <td>INDIVIDUAL</td>\n",
       "      <td>NaN</td>\n",
       "      <td>157th week</td>\n",
       "      <td>NaN</td>\n",
       "      <td>NaN</td>\n",
       "      <td>NaN</td>\n",
       "      <td>1</td>\n",
       "    </tr>\n",
       "    <tr>\n",
       "      <td>402854</td>\n",
       "      <td>79878</td>\n",
       "      <td>6700</td>\n",
       "      <td>7.75</td>\n",
       "      <td>A</td>\n",
       "      <td>A3</td>\n",
       "      <td>&lt; 1 year</td>\n",
       "      <td>NONE</td>\n",
       "      <td>NaN</td>\n",
       "      <td>Not Verified</td>\n",
       "      <td>other</td>\n",
       "      <td>...</td>\n",
       "      <td>0.0</td>\n",
       "      <td>NaN</td>\n",
       "      <td>NaN</td>\n",
       "      <td>INDIVIDUAL</td>\n",
       "      <td>NaN</td>\n",
       "      <td>157th week</td>\n",
       "      <td>NaN</td>\n",
       "      <td>NaN</td>\n",
       "      <td>NaN</td>\n",
       "      <td>1</td>\n",
       "    </tr>\n",
       "    <tr>\n",
       "      <td>683144</td>\n",
       "      <td>79912</td>\n",
       "      <td>5000</td>\n",
       "      <td>7.43</td>\n",
       "      <td>A</td>\n",
       "      <td>A2</td>\n",
       "      <td>&lt; 1 year</td>\n",
       "      <td>NONE</td>\n",
       "      <td>NaN</td>\n",
       "      <td>Not Verified</td>\n",
       "      <td>other</td>\n",
       "      <td>...</td>\n",
       "      <td>0.0</td>\n",
       "      <td>NaN</td>\n",
       "      <td>NaN</td>\n",
       "      <td>INDIVIDUAL</td>\n",
       "      <td>NaN</td>\n",
       "      <td>157th week</td>\n",
       "      <td>NaN</td>\n",
       "      <td>NaN</td>\n",
       "      <td>NaN</td>\n",
       "      <td>1</td>\n",
       "    </tr>\n",
       "  </tbody>\n",
       "</table>\n",
       "<p>4 rows × 34 columns</p>\n",
       "</div>"
      ],
      "text/plain": [
       "        member_id   loan_amnt   Rate_of_intrst grade sub_grade Experience  \\\n",
       "170053       70735        6500            8.38     A        A5   < 1 year   \n",
       "198875       79906        7000            7.75     A        A3   < 1 year   \n",
       "402854       79878        6700            7.75     A        A3   < 1 year   \n",
       "683144       79912        5000            7.43     A        A2   < 1 year   \n",
       "\n",
       "       home_ownership  annual_inc verification_status purpose  ...  \\\n",
       "170053           NONE         NaN        Not Verified   other  ...   \n",
       "198875           NONE         NaN        Not Verified   other  ...   \n",
       "402854           NONE         NaN        Not Verified   other  ...   \n",
       "683144           NONE         NaN        Not Verified   other  ...   \n",
       "\n",
       "       collection_recovery_fee  collections_12_mths_ex_med  \\\n",
       "170053                     0.0                         NaN   \n",
       "198875                     0.0                         NaN   \n",
       "402854                     0.0                         NaN   \n",
       "683144                     0.0                         NaN   \n",
       "\n",
       "        mths_since_last_major_derog  application_type  \\\n",
       "170053                          NaN        INDIVIDUAL   \n",
       "198875                          NaN        INDIVIDUAL   \n",
       "402854                          NaN        INDIVIDUAL   \n",
       "683144                          NaN        INDIVIDUAL   \n",
       "\n",
       "        verification_status_joint  last_week_pay  acc_now_delinq  \\\n",
       "170053                        NaN     157th week             NaN   \n",
       "198875                        NaN     157th week             NaN   \n",
       "402854                        NaN     157th week             NaN   \n",
       "683144                        NaN     157th week             NaN   \n",
       "\n",
       "        tot_colle_amt  tot_curr_bal  terms_status  \n",
       "170053            NaN           NaN             1  \n",
       "198875            NaN           NaN             1  \n",
       "402854            NaN           NaN             1  \n",
       "683144            NaN           NaN             1  \n",
       "\n",
       "[4 rows x 34 columns]"
      ]
     },
     "execution_count": 45,
     "metadata": {},
     "output_type": "execute_result"
    }
   ],
   "source": [
    "df[df.isnull()['annual_inc']]"
   ]
  },
  {
   "cell_type": "markdown",
   "metadata": {},
   "source": [
    "### Imputation of annual_inc based on Experience (Mean)"
   ]
  },
  {
   "cell_type": "code",
   "execution_count": 46,
   "metadata": {},
   "outputs": [
    {
     "data": {
      "text/plain": [
       "Experience\n",
       "1 year       70748.110372\n",
       "10+ years    82174.436606\n",
       "2 years      72609.851140\n",
       "3 years      73368.146041\n",
       "4 years      73780.017954\n",
       "5 years      74342.253926\n",
       "6 years      74409.918172\n",
       "7 years      74656.919133\n",
       "8 years      75994.317057\n",
       "9 years      75709.135389\n",
       "< 1 year     70283.769190\n",
       "Name: annual_inc, dtype: float64"
      ]
     },
     "execution_count": 46,
     "metadata": {},
     "output_type": "execute_result"
    }
   ],
   "source": [
    "df.groupby('Experience').mean()['annual_inc']"
   ]
  },
  {
   "cell_type": "code",
   "execution_count": 47,
   "metadata": {},
   "outputs": [],
   "source": [
    "total_Experience_avg = df.groupby('Experience').mean()['annual_inc']"
   ]
  },
  {
   "cell_type": "code",
   "execution_count": 48,
   "metadata": {},
   "outputs": [
    {
     "data": {
      "text/plain": [
       "pandas.core.series.Series"
      ]
     },
     "execution_count": 48,
     "metadata": {},
     "output_type": "execute_result"
    }
   ],
   "source": [
    "type(total_Experience_avg)"
   ]
  },
  {
   "cell_type": "code",
   "execution_count": 49,
   "metadata": {},
   "outputs": [
    {
     "data": {
      "text/plain": [
       "73780.01795389215"
      ]
     },
     "execution_count": 49,
     "metadata": {},
     "output_type": "execute_result"
    }
   ],
   "source": [
    "total_Experience_avg[4]"
   ]
  },
  {
   "cell_type": "code",
   "execution_count": 50,
   "metadata": {},
   "outputs": [],
   "source": [
    "def fill_annual_inc(Experience,annual_inc):\n",
    "    '''\n",
    "    Accepts the Experience and annual_inc values for the row.\n",
    "    Checks if the annual_inc is NaN , if so, it returns the avg annual_inc value\n",
    "    for the corresponding Experience value for that row.\n",
    "    \n",
    "    total_Experience_avg here should be a Series or dictionary containing the mapping of the\n",
    "    groupby averages of annual_inc per Experience values.\n",
    "    '''\n",
    "    if np.isnan(annual_inc):\n",
    "        return total_Experience_avg[Experience]\n",
    "    else:\n",
    "        return annual_inc"
   ]
  },
  {
   "cell_type": "code",
   "execution_count": 51,
   "metadata": {},
   "outputs": [],
   "source": [
    "df['annual_inc'] = df.apply(lambda x: fill_annual_inc(x['Experience'], x['annual_inc']), axis=1)"
   ]
  },
  {
   "cell_type": "markdown",
   "metadata": {},
   "source": [
    "### Imputation of delinq_2yrs & inq_last_6mths based on Experience (Mean)"
   ]
  },
  {
   "cell_type": "code",
   "execution_count": 52,
   "metadata": {},
   "outputs": [
    {
     "data": {
      "text/plain": [
       "29"
      ]
     },
     "execution_count": 52,
     "metadata": {},
     "output_type": "execute_result"
    }
   ],
   "source": [
    "df.isnull()['delinq_2yrs'].sum()"
   ]
  },
  {
   "cell_type": "code",
   "execution_count": 53,
   "metadata": {},
   "outputs": [
    {
     "data": {
      "text/plain": [
       "Experience\n",
       "1 year       0.322234\n",
       "10+ years    0.360975\n",
       "2 years      0.325489\n",
       "3 years      0.291015\n",
       "4 years      0.270175\n",
       "5 years      0.271255\n",
       "6 years      0.277026\n",
       "7 years      0.279544\n",
       "8 years      0.298737\n",
       "9 years      0.303670\n",
       "< 1 year     0.288353\n",
       "Name: delinq_2yrs, dtype: float64"
      ]
     },
     "execution_count": 53,
     "metadata": {},
     "output_type": "execute_result"
    }
   ],
   "source": [
    "df.groupby('Experience')['delinq_2yrs'].mean()"
   ]
  },
  {
   "cell_type": "code",
   "execution_count": 54,
   "metadata": {},
   "outputs": [],
   "source": [
    "total_Experience_delinq_2yrs_avg = df.groupby('Experience').mean()['delinq_2yrs']\n",
    "\n",
    "def fill_delinq_2yrs(Experience,delinq_2yrs):\n",
    "    \n",
    "    if np.isnan(delinq_2yrs):\n",
    "        return total_Experience_delinq_2yrs_avg[Experience]\n",
    "    else:\n",
    "        return delinq_2yrs\n",
    "    "
   ]
  },
  {
   "cell_type": "code",
   "execution_count": 55,
   "metadata": {},
   "outputs": [],
   "source": [
    "df['delinq_2yrs'] = df.apply(lambda x: fill_delinq_2yrs(x['Experience'], x['delinq_2yrs']), axis=1)"
   ]
  },
  {
   "cell_type": "code",
   "execution_count": 56,
   "metadata": {},
   "outputs": [
    {
     "data": {
      "text/plain": [
       "29"
      ]
     },
     "execution_count": 56,
     "metadata": {},
     "output_type": "execute_result"
    }
   ],
   "source": [
    "df.isnull()['inq_last_6mths'].sum()"
   ]
  },
  {
   "cell_type": "code",
   "execution_count": 57,
   "metadata": {
    "scrolled": true
   },
   "outputs": [
    {
     "data": {
      "text/plain": [
       "Experience\n",
       "1 year       0.709977\n",
       "10+ years    0.681760\n",
       "2 years      0.702507\n",
       "3 years      0.703987\n",
       "4 years      0.709475\n",
       "5 years      0.710434\n",
       "6 years      0.722462\n",
       "7 years      0.705633\n",
       "8 years      0.688136\n",
       "9 years      0.666696\n",
       "< 1 year     0.706787\n",
       "Name: inq_last_6mths, dtype: float64"
      ]
     },
     "execution_count": 57,
     "metadata": {},
     "output_type": "execute_result"
    }
   ],
   "source": [
    "df.groupby('Experience')['inq_last_6mths'].mean()"
   ]
  },
  {
   "cell_type": "code",
   "execution_count": 58,
   "metadata": {},
   "outputs": [],
   "source": [
    "total_Experience_inq_last_6mths_avg = df.groupby('Experience').mean()['inq_last_6mths']\n",
    "\n",
    "def fill_inq_last_6mths(Experience,inq_last_6mths):\n",
    "    \n",
    "    if np.isnan(inq_last_6mths):\n",
    "        return total_Experience_inq_last_6mths_avg[Experience]\n",
    "    else:\n",
    "        return inq_last_6mths"
   ]
  },
  {
   "cell_type": "code",
   "execution_count": 59,
   "metadata": {},
   "outputs": [],
   "source": [
    "df['inq_last_6mths'] = df.apply(lambda x: fill_inq_last_6mths(x['Experience'], x['inq_last_6mths']), axis=1)"
   ]
  },
  {
   "cell_type": "markdown",
   "metadata": {},
   "source": [
    "### Reassigning the years values "
   ]
  },
  {
   "cell_type": "code",
   "execution_count": 60,
   "metadata": {},
   "outputs": [
    {
     "data": {
      "text/plain": [
       "array(['9 years', '< 1 year', '2 years', '10+ years', '5 years',\n",
       "       '8 years', '7 years', '4 years', nan, '1 year', '3 years',\n",
       "       '6 years'], dtype=object)"
      ]
     },
     "execution_count": 60,
     "metadata": {},
     "output_type": "execute_result"
    }
   ],
   "source": [
    "df['Experience'].unique()"
   ]
  },
  {
   "cell_type": "code",
   "execution_count": 61,
   "metadata": {},
   "outputs": [],
   "source": [
    "df['Experience_status'] = df['Experience'].map({'9 years':9, '< 1 year':0, '2 years':2, '10+ years':10, '5 years':5,\n",
    "       '8 years':8, '7 years':7, '4 years':4,'1 year':1, '3 years':3,\n",
    "       '6 years':6})"
   ]
  },
  {
   "cell_type": "code",
   "execution_count": 62,
   "metadata": {},
   "outputs": [
    {
     "data": {
      "text/html": [
       "<div>\n",
       "<style scoped>\n",
       "    .dataframe tbody tr th:only-of-type {\n",
       "        vertical-align: middle;\n",
       "    }\n",
       "\n",
       "    .dataframe tbody tr th {\n",
       "        vertical-align: top;\n",
       "    }\n",
       "\n",
       "    .dataframe thead th {\n",
       "        text-align: right;\n",
       "    }\n",
       "</style>\n",
       "<table border=\"1\" class=\"dataframe\">\n",
       "  <thead>\n",
       "    <tr style=\"text-align: right;\">\n",
       "      <th></th>\n",
       "      <th>Experience_status</th>\n",
       "      <th>Experience</th>\n",
       "    </tr>\n",
       "  </thead>\n",
       "  <tbody>\n",
       "    <tr>\n",
       "      <td>0</td>\n",
       "      <td>9.0</td>\n",
       "      <td>9 years</td>\n",
       "    </tr>\n",
       "    <tr>\n",
       "      <td>1</td>\n",
       "      <td>0.0</td>\n",
       "      <td>&lt; 1 year</td>\n",
       "    </tr>\n",
       "    <tr>\n",
       "      <td>2</td>\n",
       "      <td>2.0</td>\n",
       "      <td>2 years</td>\n",
       "    </tr>\n",
       "    <tr>\n",
       "      <td>3</td>\n",
       "      <td>10.0</td>\n",
       "      <td>10+ years</td>\n",
       "    </tr>\n",
       "    <tr>\n",
       "      <td>4</td>\n",
       "      <td>10.0</td>\n",
       "      <td>10+ years</td>\n",
       "    </tr>\n",
       "    <tr>\n",
       "      <td>...</td>\n",
       "      <td>...</td>\n",
       "      <td>...</td>\n",
       "    </tr>\n",
       "    <tr>\n",
       "      <td>887374</td>\n",
       "      <td>1.0</td>\n",
       "      <td>1 year</td>\n",
       "    </tr>\n",
       "    <tr>\n",
       "      <td>887375</td>\n",
       "      <td>1.0</td>\n",
       "      <td>1 year</td>\n",
       "    </tr>\n",
       "    <tr>\n",
       "      <td>887376</td>\n",
       "      <td>10.0</td>\n",
       "      <td>10+ years</td>\n",
       "    </tr>\n",
       "    <tr>\n",
       "      <td>887377</td>\n",
       "      <td>0.0</td>\n",
       "      <td>&lt; 1 year</td>\n",
       "    </tr>\n",
       "    <tr>\n",
       "      <td>887378</td>\n",
       "      <td>2.0</td>\n",
       "      <td>2 years</td>\n",
       "    </tr>\n",
       "  </tbody>\n",
       "</table>\n",
       "<p>887379 rows × 2 columns</p>\n",
       "</div>"
      ],
      "text/plain": [
       "        Experience_status Experience\n",
       "0                     9.0    9 years\n",
       "1                     0.0   < 1 year\n",
       "2                     2.0    2 years\n",
       "3                    10.0  10+ years\n",
       "4                    10.0  10+ years\n",
       "...                   ...        ...\n",
       "887374                1.0     1 year\n",
       "887375                1.0     1 year\n",
       "887376               10.0  10+ years\n",
       "887377                0.0   < 1 year\n",
       "887378                2.0    2 years\n",
       "\n",
       "[887379 rows x 2 columns]"
      ]
     },
     "execution_count": 62,
     "metadata": {},
     "output_type": "execute_result"
    }
   ],
   "source": [
    "df[['Experience_status','Experience']]"
   ]
  },
  {
   "cell_type": "markdown",
   "metadata": {},
   "source": [
    "### Imputation of Experience based on sub_grade (Mean)"
   ]
  },
  {
   "cell_type": "code",
   "execution_count": 63,
   "metadata": {},
   "outputs": [
    {
     "data": {
      "text/plain": [
       "sub_grade\n",
       "A1    6.073319\n",
       "A2    5.902944\n",
       "A3    5.972700\n",
       "A4    5.968094\n",
       "A5    5.999650\n",
       "B1    6.066692\n",
       "B2    6.029258\n",
       "B3    6.016168\n",
       "B4    5.967696\n",
       "B5    5.957415\n",
       "C1    5.956780\n",
       "C2    5.982320\n",
       "C3    6.036376\n",
       "C4    6.040518\n",
       "C5    6.056668\n",
       "D1    5.994063\n",
       "D2    5.985297\n",
       "D3    5.974709\n",
       "D4    5.998885\n",
       "D5    6.047207\n",
       "E1    6.019698\n",
       "E2    6.037211\n",
       "E3    6.026635\n",
       "E4    6.068645\n",
       "E5    6.122066\n",
       "F1    6.076003\n",
       "F2    6.097651\n",
       "F3    6.078353\n",
       "F4    6.140313\n",
       "F5    6.233641\n",
       "G1    5.957494\n",
       "G2    6.009687\n",
       "G3    5.945802\n",
       "G4    6.108192\n",
       "G5    6.220826\n",
       "Name: Experience_status, dtype: float64"
      ]
     },
     "execution_count": 63,
     "metadata": {},
     "output_type": "execute_result"
    }
   ],
   "source": [
    "df.groupby('sub_grade')['Experience_status'].mean()"
   ]
  },
  {
   "cell_type": "code",
   "execution_count": 64,
   "metadata": {},
   "outputs": [],
   "source": [
    "total_sub_grade_Experience_status_avg = df.groupby('sub_grade').mean()['Experience_status']\n",
    "\n",
    "def fill_Experience_status(sub_grade,Experience_status):\n",
    "    \n",
    "    if np.isnan(Experience_status):\n",
    "        return total_sub_grade_Experience_status_avg[sub_grade]\n",
    "    else:\n",
    "        return Experience_status"
   ]
  },
  {
   "cell_type": "code",
   "execution_count": 65,
   "metadata": {},
   "outputs": [],
   "source": [
    "df['Experience_status'] = df.apply(lambda x: fill_Experience_status(x['sub_grade'], x['Experience_status']), axis=1)"
   ]
  },
  {
   "cell_type": "code",
   "execution_count": 66,
   "metadata": {},
   "outputs": [],
   "source": [
    "df['Experience_status'] = df['Experience_status'].astype(int)"
   ]
  },
  {
   "cell_type": "code",
   "execution_count": 67,
   "metadata": {},
   "outputs": [],
   "source": [
    "df.drop('Experience',axis=1,inplace=True)"
   ]
  },
  {
   "cell_type": "markdown",
   "metadata": {},
   "source": [
    "### Imputation of tot_curr_bal based on loan_amnt (Mean)"
   ]
  },
  {
   "cell_type": "code",
   "execution_count": 68,
   "metadata": {},
   "outputs": [
    {
     "data": {
      "text/plain": [
       "count    8.171030e+05\n",
       "mean     1.394582e+05\n",
       "std      1.537500e+05\n",
       "min      0.000000e+00\n",
       "25%      2.985300e+04\n",
       "50%      8.055900e+04\n",
       "75%      2.082050e+05\n",
       "max      8.000078e+06\n",
       "Name: tot_curr_bal, dtype: float64"
      ]
     },
     "execution_count": 68,
     "metadata": {},
     "output_type": "execute_result"
    }
   ],
   "source": [
    "df['tot_curr_bal'].describe()"
   ]
  },
  {
   "cell_type": "code",
   "execution_count": 69,
   "metadata": {},
   "outputs": [
    {
     "data": {
      "text/plain": [
       "member_id                      0.007997\n",
       "loan_amnt                      0.328782\n",
       "Rate_of_intrst                -0.091408\n",
       "annual_inc                     0.418332\n",
       "debt_income_ratio             -0.007282\n",
       "delinq_2yrs                    0.064762\n",
       "inq_last_6mths                 0.034338\n",
       "mths_since_last_delinq        -0.093911\n",
       "mths_since_last_record        -0.026634\n",
       "numb_credit                    0.244134\n",
       "pub_rec                       -0.075814\n",
       "total revol_bal                0.442036\n",
       "total_credits                  0.311074\n",
       "total_rec_int                  0.132343\n",
       "total_rec_late_fee             0.011371\n",
       "recoveries                     0.004210\n",
       "collection_recovery_fee        0.005772\n",
       "collections_12_mths_ex_med    -0.010984\n",
       "mths_since_last_major_derog   -0.068377\n",
       "acc_now_delinq                 0.023394\n",
       "tot_colle_amt                 -0.000355\n",
       "tot_curr_bal                   1.000000\n",
       "terms_status                  -0.110343\n",
       "Experience_status              0.098428\n",
       "Name: tot_curr_bal, dtype: float64"
      ]
     },
     "execution_count": 69,
     "metadata": {},
     "output_type": "execute_result"
    }
   ],
   "source": [
    "df.corr()['tot_curr_bal']"
   ]
  },
  {
   "cell_type": "markdown",
   "metadata": {},
   "source": [
    "###### As there is a good corelation among annual_inc and tot_curr_bal, so we will try to impute the total current balance based on the annual income. When even logically seem right as maintaining current balance depends on the income of the person but even after imputing we were stil left with some missing data points so we again repeated the same step with loan_amnt."
   ]
  },
  {
   "cell_type": "code",
   "execution_count": 70,
   "metadata": {},
   "outputs": [
    {
     "data": {
      "text/plain": [
       "loan_amnt \n",
       "500                NaN\n",
       "550                NaN\n",
       "600                NaN\n",
       "700                NaN\n",
       "725                NaN\n",
       "             ...      \n",
       "34900    306472.307692\n",
       "34925    328979.000000\n",
       "34950    155378.444444\n",
       "34975    294090.821429\n",
       "35000    287250.480523\n",
       "Name: tot_curr_bal, Length: 1372, dtype: float64"
      ]
     },
     "execution_count": 70,
     "metadata": {},
     "output_type": "execute_result"
    }
   ],
   "source": [
    "df.groupby('loan_amnt ')['tot_curr_bal'].mean()"
   ]
  },
  {
   "cell_type": "code",
   "execution_count": 71,
   "metadata": {},
   "outputs": [],
   "source": [
    "total_loan_amnt_tot_curr_bal_avg = df.groupby('loan_amnt ').mean()['tot_curr_bal']\n",
    "\n",
    "def fill_tot_curr_bal(loan_amnt,tot_curr_bal):\n",
    "    \n",
    "    if np.isnan(tot_curr_bal):\n",
    "        return total_loan_amnt_tot_curr_bal_avg[loan_amnt]\n",
    "    else:\n",
    "        return tot_curr_bal"
   ]
  },
  {
   "cell_type": "code",
   "execution_count": 72,
   "metadata": {},
   "outputs": [],
   "source": [
    "df['tot_curr_bal'] = df.apply(lambda x: fill_tot_curr_bal(x['loan_amnt '], x['tot_curr_bal']), axis=1)"
   ]
  },
  {
   "cell_type": "code",
   "execution_count": 74,
   "metadata": {},
   "outputs": [],
   "source": [
    "values = {'mths_since_last_delinq': 0, 'mths_since_last_record': 0, 'mths_since_last_major_derog': 0}\n",
    "df.fillna(value=values,inplace=True)"
   ]
  },
  {
   "cell_type": "markdown",
   "metadata": {},
   "source": [
    "### Reassigning the verification_status_joint & verification_status values to 0 or 1"
   ]
  },
  {
   "cell_type": "code",
   "execution_count": 75,
   "metadata": {},
   "outputs": [],
   "source": [
    "df['verification_status_joint'] = df['verification_status_joint'].map({'Verified':1, 'Not Verified':0, 'Source Verified':1})"
   ]
  },
  {
   "cell_type": "code",
   "execution_count": 76,
   "metadata": {},
   "outputs": [],
   "source": [
    "values_1 = {'verification_status_joint': 0}\n",
    "df.fillna(value=values_1,inplace=True)"
   ]
  },
  {
   "cell_type": "code",
   "execution_count": 77,
   "metadata": {},
   "outputs": [
    {
     "data": {
      "text/plain": [
       "array([0., 1.])"
      ]
     },
     "execution_count": 77,
     "metadata": {},
     "output_type": "execute_result"
    }
   ],
   "source": [
    "df['verification_status_joint'].unique()"
   ]
  },
  {
   "cell_type": "code",
   "execution_count": 78,
   "metadata": {},
   "outputs": [
    {
     "data": {
      "text/plain": [
       "array(['Source Verified', 'Not Verified', 'Verified'], dtype=object)"
      ]
     },
     "execution_count": 78,
     "metadata": {},
     "output_type": "execute_result"
    }
   ],
   "source": [
    "df['verification_status'].unique()"
   ]
  },
  {
   "cell_type": "code",
   "execution_count": 79,
   "metadata": {},
   "outputs": [],
   "source": [
    "df['verification_status'] = df['verification_status'].map({'Verified':1, 'Not Verified':0, 'Source Verified':1})"
   ]
  },
  {
   "cell_type": "code",
   "execution_count": 80,
   "metadata": {},
   "outputs": [
    {
     "data": {
      "text/plain": [
       "array([1, 0])"
      ]
     },
     "execution_count": 80,
     "metadata": {},
     "output_type": "execute_result"
    }
   ],
   "source": [
    "df['verification_status'].unique()"
   ]
  },
  {
   "cell_type": "markdown",
   "metadata": {},
   "source": [
    "### Imputation of tot_colle_amt NA values to 0 (based on mode of that feature)"
   ]
  },
  {
   "cell_type": "code",
   "execution_count": 111,
   "metadata": {},
   "outputs": [],
   "source": [
    "values_2 = {'tot_colle_amt': 0}\n",
    "df.fillna(value=values_2,inplace=True)"
   ]
  },
  {
   "cell_type": "markdown",
   "metadata": {},
   "source": [
    "**Still few of the feature sets has few missing data points, but they account for less than 0.5% of the total data. so will ahead and remove the rows that are missing those values in those columns with dropna().**"
   ]
  },
  {
   "cell_type": "code",
   "execution_count": 117,
   "metadata": {},
   "outputs": [],
   "source": [
    "df = df.dropna()"
   ]
  },
  {
   "cell_type": "markdown",
   "metadata": {},
   "source": [
    "# Feature Engineering required for last_week_pay"
   ]
  },
  {
   "cell_type": "code",
   "execution_count": null,
   "metadata": {},
   "outputs": [],
   "source": []
  },
  {
   "cell_type": "markdown",
   "metadata": {},
   "source": [
    "## Categorical Variables and Dummy Variables\n",
    "\n",
    "**As we are done working with the missing data! Now we just need to deal with the string values due to the categorical columns.**"
   ]
  },
  {
   "cell_type": "code",
   "execution_count": 121,
   "metadata": {},
   "outputs": [
    {
     "data": {
      "text/plain": [
       "Index(['grade', 'sub_grade', 'home_ownership', 'purpose', 'State',\n",
       "       'initial_list_status', 'application_type', 'last_week_pay'],\n",
       "      dtype='object')"
      ]
     },
     "execution_count": 121,
     "metadata": {},
     "output_type": "execute_result"
    }
   ],
   "source": [
    "df.select_dtypes(['object']).columns"
   ]
  },
  {
   "cell_type": "markdown",
   "metadata": {},
   "source": [
    "### grade feature\n",
    "\n",
    "**We already know grade is part of sub_grade, so just drop the grade feature.**"
   ]
  },
  {
   "cell_type": "code",
   "execution_count": 122,
   "metadata": {},
   "outputs": [],
   "source": [
    "df = df.drop('grade',axis=1)"
   ]
  },
  {
   "cell_type": "markdown",
   "metadata": {},
   "source": [
    "**We will be Converting the subgrade into dummy variables. Then concatenate these new columns to the original dataframe. We will drop the original subgrade column and add drop_first=True to your get_dummies call.**"
   ]
  },
  {
   "cell_type": "code",
   "execution_count": 123,
   "metadata": {},
   "outputs": [],
   "source": [
    "subgrade_dummies = pd.get_dummies(df['sub_grade'],drop_first=True)"
   ]
  },
  {
   "cell_type": "code",
   "execution_count": 124,
   "metadata": {},
   "outputs": [],
   "source": [
    "df = pd.concat([df.drop('sub_grade',axis=1),subgrade_dummies],axis=1)"
   ]
  },
  {
   "cell_type": "code",
   "execution_count": 125,
   "metadata": {},
   "outputs": [
    {
     "data": {
      "text/plain": [
       "Index(['member_id ', 'loan_amnt ', 'Rate_of_intrst', 'home_ownership',\n",
       "       'annual_inc', 'verification_status', 'purpose', 'State',\n",
       "       'debt_income_ratio', 'delinq_2yrs', 'inq_last_6mths',\n",
       "       'mths_since_last_delinq', 'mths_since_last_record', 'numb_credit',\n",
       "       'pub_rec', 'total revol_bal', 'total_credits', 'initial_list_status',\n",
       "       'total_rec_int', 'total_rec_late_fee', 'recoveries',\n",
       "       'collection_recovery_fee', 'collections_12_mths_ex_med',\n",
       "       'mths_since_last_major_derog', 'application_type',\n",
       "       'verification_status_joint', 'last_week_pay', 'acc_now_delinq',\n",
       "       'tot_colle_amt', 'tot_curr_bal', 'terms_status', 'Experience_status',\n",
       "       'A2', 'A3', 'A4', 'A5', 'B1', 'B2', 'B3', 'B4', 'B5', 'C1', 'C2', 'C3',\n",
       "       'C4', 'C5', 'D1', 'D2', 'D3', 'D4', 'D5', 'E1', 'E2', 'E3', 'E4', 'E5',\n",
       "       'F1', 'F2', 'F3', 'F4', 'F5', 'G1', 'G2', 'G3', 'G4', 'G5'],\n",
       "      dtype='object')"
      ]
     },
     "execution_count": 125,
     "metadata": {},
     "output_type": "execute_result"
    }
   ],
   "source": [
    "df.columns"
   ]
  },
  {
   "cell_type": "code",
   "execution_count": 126,
   "metadata": {},
   "outputs": [
    {
     "data": {
      "text/plain": [
       "Index(['home_ownership', 'purpose', 'State', 'initial_list_status',\n",
       "       'application_type', 'last_week_pay'],\n",
       "      dtype='object')"
      ]
     },
     "execution_count": 126,
     "metadata": {},
     "output_type": "execute_result"
    }
   ],
   "source": [
    "df.select_dtypes(['object']).columns"
   ]
  },
  {
   "cell_type": "markdown",
   "metadata": {},
   "source": [
    "### Application_type, initial_list_status, purpose \n",
    "**Now we will be Converting these columns: ['application_type','initial_list_status','purpose'] into dummy variables and concatenate them with the original dataframe. We will be using the drop_first=True to drop the original columns.**"
   ]
  },
  {
   "cell_type": "code",
   "execution_count": 129,
   "metadata": {},
   "outputs": [],
   "source": [
    "dummies = pd.get_dummies(df[['application_type','initial_list_status','purpose' ]],drop_first=True)\n",
    "df = df.drop(['application_type','initial_list_status','purpose'],axis=1)\n",
    "df = pd.concat([df,dummies],axis=1)"
   ]
  },
  {
   "cell_type": "code",
   "execution_count": 130,
   "metadata": {},
   "outputs": [
    {
     "data": {
      "text/plain": [
       "Index(['home_ownership', 'State', 'last_week_pay'], dtype='object')"
      ]
     },
     "execution_count": 130,
     "metadata": {},
     "output_type": "execute_result"
    }
   ],
   "source": [
    "df.select_dtypes(['object']).columns"
   ]
  },
  {
   "cell_type": "markdown",
   "metadata": {},
   "source": [
    "### home_ownership"
   ]
  },
  {
   "cell_type": "code",
   "execution_count": 131,
   "metadata": {},
   "outputs": [
    {
     "data": {
      "text/plain": [
       "MORTGAGE    443495\n",
       "RENT        356024\n",
       "OWN          87455\n",
       "OTHER          180\n",
       "NONE            44\n",
       "ANY              3\n",
       "Name: home_ownership, dtype: int64"
      ]
     },
     "execution_count": 131,
     "metadata": {},
     "output_type": "execute_result"
    }
   ],
   "source": [
    "df['home_ownership'].value_counts()"
   ]
  },
  {
   "cell_type": "code",
   "execution_count": 132,
   "metadata": {},
   "outputs": [],
   "source": [
    "df['home_ownership']=df['home_ownership'].replace(['NONE', 'ANY'], 'OTHER')\n",
    "\n",
    "dummies_1 = pd.get_dummies(df['home_ownership'],drop_first=True)\n",
    "df = df.drop('home_ownership',axis=1)\n",
    "df = pd.concat([df,dummies_1],axis=1)"
   ]
  },
  {
   "cell_type": "code",
   "execution_count": 133,
   "metadata": {},
   "outputs": [
    {
     "data": {
      "text/plain": [
       "Index(['State', 'last_week_pay'], dtype='object')"
      ]
     },
     "execution_count": 133,
     "metadata": {},
     "output_type": "execute_result"
    }
   ],
   "source": [
    "df.select_dtypes(['object']).columns"
   ]
  },
  {
   "cell_type": "markdown",
   "metadata": {},
   "source": [
    "### State"
   ]
  },
  {
   "cell_type": "code",
   "execution_count": 134,
   "metadata": {},
   "outputs": [],
   "source": [
    "dummies_2 = pd.get_dummies(df['State'],drop_first=True)\n",
    "df = df.drop(['State'],axis=1)\n",
    "df = pd.concat([df,dummies_2],axis=1)"
   ]
  },
  {
   "cell_type": "code",
   "execution_count": 135,
   "metadata": {},
   "outputs": [
    {
     "data": {
      "text/plain": [
       "Index(['last_week_pay'], dtype='object')"
      ]
     },
     "execution_count": 135,
     "metadata": {},
     "output_type": "execute_result"
    }
   ],
   "source": [
    "df.select_dtypes(['object']).columns"
   ]
  },
  {
   "cell_type": "markdown",
   "metadata": {},
   "source": [
    "### last_week_pay"
   ]
  },
  {
   "cell_type": "code",
   "execution_count": 181,
   "metadata": {},
   "outputs": [],
   "source": [
    "df = df.drop('last_week_pay_nos',axis=1)"
   ]
  },
  {
   "cell_type": "code",
   "execution_count": 182,
   "metadata": {},
   "outputs": [],
   "source": [
    "df['last_week_pay_nos'] = df['last_week_pay'].apply(lambda last_week_pay:last_week_pay[:2])"
   ]
  },
  {
   "cell_type": "code",
   "execution_count": 184,
   "metadata": {},
   "outputs": [],
   "source": [
    "df['last_week_pay_nos'] = df['last_week_pay_nos'].replace(['9t','4t','0t','8t','NA'],['9','4','0','8','0'])"
   ]
  },
  {
   "cell_type": "code",
   "execution_count": 185,
   "metadata": {},
   "outputs": [
    {
     "data": {
      "text/plain": [
       "13    73346\n",
       "9     47680\n",
       "26    46841\n",
       "22    43932\n",
       "4     43104\n",
       "35    40161\n",
       "10    39876\n",
       "39    39762\n",
       "17    38365\n",
       "31    35383\n",
       "48    32184\n",
       "52    32161\n",
       "65    31865\n",
       "61    30419\n",
       "15    26269\n",
       "78    23516\n",
       "74    22383\n",
       "11    22098\n",
       "0     18953\n",
       "87    18695\n",
       "12    18462\n",
       "91    18014\n",
       "44    17502\n",
       "83    16265\n",
       "70    16066\n",
       "43    13713\n",
       "57    12979\n",
       "96    11264\n",
       "14    11148\n",
       "16    10946\n",
       "56     8459\n",
       "30     5736\n",
       "95     4465\n",
       "18     3553\n",
       "82     3180\n",
       "69     2193\n",
       "21     1413\n",
       "8      1028\n",
       "20     1005\n",
       "19      754\n",
       "23      717\n",
       "24      485\n",
       "92      376\n",
       "25      334\n",
       "79      126\n",
       "27       20\n",
       "29        3\n",
       "28        2\n",
       "Name: last_week_pay_nos, dtype: int64"
      ]
     },
     "execution_count": 185,
     "metadata": {},
     "output_type": "execute_result"
    }
   ],
   "source": [
    "df['last_week_pay_nos'].unique()"
   ]
  },
  {
   "cell_type": "code",
   "execution_count": 207,
   "metadata": {},
   "outputs": [],
   "source": [
    "df = df.drop(['last_week_pay'],axis=1)"
   ]
  },
  {
   "cell_type": "code",
   "execution_count": 209,
   "metadata": {},
   "outputs": [],
   "source": [
    "df = df.drop(['member_id '],axis=1)"
   ]
  },
  {
   "cell_type": "code",
   "execution_count": 210,
   "metadata": {},
   "outputs": [
    {
     "data": {
      "text/plain": [
       "Index(['loan_amnt ', 'Rate_of_intrst', 'annual_inc', 'verification_status',\n",
       "       'debt_income_ratio', 'delinq_2yrs', 'inq_last_6mths',\n",
       "       'mths_since_last_delinq', 'mths_since_last_record', 'numb_credit',\n",
       "       ...\n",
       "       'TN', 'TX', 'UT', 'VA', 'VT', 'WA', 'WI', 'WV', 'WY',\n",
       "       'last_week_pay_nos'],\n",
       "      dtype='object', length=128)"
      ]
     },
     "execution_count": 210,
     "metadata": {},
     "output_type": "execute_result"
    }
   ],
   "source": [
    "df.columns"
   ]
  },
  {
   "cell_type": "code",
   "execution_count": 191,
   "metadata": {},
   "outputs": [
    {
     "data": {
      "text/plain": [
       "<matplotlib.axes._subplots.AxesSubplot at 0x7f9f92ada5d0>"
      ]
     },
     "execution_count": 191,
     "metadata": {},
     "output_type": "execute_result"
    },
    {
     "data": {
      "image/png": "[encoded data removed]",
      "text/plain": [
       "<Figure size 1440x864 with 2 Axes>"
      ]
     },
     "metadata": {
      "needs_background": "light"
     },
     "output_type": "display_data"
    }
   ],
   "source": [
    "plt.figure(figsize=(20,12))\n",
    "sns.heatmap(df.isnull(),cmap='viridis')"
   ]
  },
  {
   "cell_type": "markdown",
   "metadata": {},
   "source": [
    "----\n",
    "----\n",
    "\n",
    "# OPTIONAL\n",
    "\n",
    "## Grabbing a Sample for Training Time\n",
    "\n",
    "### OPTIONAL: Useing .sample() to grab a sample of the 870k+ entries to save time on training. Highly recommended for lower RAM computers or if we are not using GPU.\n",
    "\n",
    "----\n",
    "----"
   ]
  },
  {
   "cell_type": "code",
   "execution_count": 205,
   "metadata": {},
   "outputs": [
    {
     "name": "stdout",
     "output_type": "stream",
     "text": [
      "443600\n"
     ]
    }
   ],
   "source": [
    "df2 = df.sample(frac=0.5,random_state=101)\n",
    "print(len(df2))"
   ]
  },
  {
   "cell_type": "markdown",
   "metadata": {},
   "source": [
    "## Scaling and Train Test Split"
   ]
  },
  {
   "cell_type": "code",
   "execution_count": 220,
   "metadata": {},
   "outputs": [],
   "source": [
    "X = df2.drop('total revol_bal',axis=1)\n",
    "y = df2['total revol_bal']"
   ]
  },
  {
   "cell_type": "code",
   "execution_count": 221,
   "metadata": {},
   "outputs": [],
   "source": [
    "from sklearn.model_selection import train_test_split"
   ]
  },
  {
   "cell_type": "code",
   "execution_count": 222,
   "metadata": {},
   "outputs": [],
   "source": [
    "X_train, X_test, y_train, y_test = train_test_split(X,y,test_size=0.3,random_state=101)"
   ]
  },
  {
   "cell_type": "markdown",
   "metadata": {},
   "source": [
    "### Scaling"
   ]
  },
  {
   "cell_type": "code",
   "execution_count": 223,
   "metadata": {},
   "outputs": [],
   "source": [
    "from sklearn.preprocessing import MinMaxScaler"
   ]
  },
  {
   "cell_type": "code",
   "execution_count": 224,
   "metadata": {},
   "outputs": [],
   "source": [
    "scaler = MinMaxScaler()"
   ]
  },
  {
   "cell_type": "code",
   "execution_count": 225,
   "metadata": {},
   "outputs": [],
   "source": [
    "X_train= scaler.fit_transform(X_train)"
   ]
  },
  {
   "cell_type": "code",
   "execution_count": 226,
   "metadata": {},
   "outputs": [],
   "source": [
    "X_test = scaler.transform(X_test)"
   ]
  },
  {
   "cell_type": "code",
   "execution_count": 227,
   "metadata": {},
   "outputs": [
    {
     "data": {
      "text/plain": [
       "(310520, 128)"
      ]
     },
     "execution_count": 227,
     "metadata": {},
     "output_type": "execute_result"
    }
   ],
   "source": [
    "X_train.shape"
   ]
  },
  {
   "cell_type": "code",
   "execution_count": 228,
   "metadata": {},
   "outputs": [
    {
     "data": {
      "text/plain": [
       "(133080, 128)"
      ]
     },
     "execution_count": 228,
     "metadata": {},
     "output_type": "execute_result"
    }
   ],
   "source": [
    "X_test.shape"
   ]
  },
  {
   "cell_type": "markdown",
   "metadata": {},
   "source": [
    "## Creating a Model"
   ]
  },
  {
   "cell_type": "code",
   "execution_count": null,
   "metadata": {},
   "outputs": [],
   "source": []
  },
  {
   "cell_type": "code",
   "execution_count": null,
   "metadata": {},
   "outputs": [],
   "source": []
  },
  {
   "cell_type": "code",
   "execution_count": null,
   "metadata": {},
   "outputs": [],
   "source": []
  },
  {
   "cell_type": "code",
   "execution_count": null,
   "metadata": {},
   "outputs": [],
   "source": [
    "\n"
   ]
  }
 ],
 "metadata": {
  "kernelspec": {
   "display_name": "Python 3",
   "language": "python",
   "name": "python3"
  },
  "language_info": {
   "codemirror_mode": {
    "name": "ipython",
    "version": 3
   },
   "file_extension": ".py",
   "mimetype": "text/x-python",
   "name": "python",
   "nbconvert_exporter": "python",
   "pygments_lexer": "ipython3",
   "version": "3.7.4"
  }
 },
 "nbformat": 4,
 "nbformat_minor": 2
}
